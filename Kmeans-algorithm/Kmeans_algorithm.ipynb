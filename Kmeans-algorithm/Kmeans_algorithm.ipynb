{
  "nbformat": 4,
  "nbformat_minor": 0,
  "metadata": {
    "colab": {
      "provenance": []
    },
    "kernelspec": {
      "name": "python3",
      "display_name": "Python 3"
    },
    "language_info": {
      "name": "python"
    }
  },
  "cells": [
    {
      "cell_type": "code",
      "execution_count": 112,
      "metadata": {
        "id": "xgViOIbY67mI"
      },
      "outputs": [],
      "source": [
        "import pandas as pd\n",
        "import numpy as np\n",
        "import matplotlib.pyplot as plt"
      ]
    },
    {
      "cell_type": "code",
      "source": [
        "data = pd.read_csv('data.csv')"
      ],
      "metadata": {
        "id": "RdtXL-sQ7X9K"
      },
      "execution_count": 113,
      "outputs": []
    },
    {
      "cell_type": "code",
      "source": [
        "data"
      ],
      "metadata": {
        "colab": {
          "base_uri": "https://localhost:8080/",
          "height": 423
        },
        "id": "l3uWCJX87dHG",
        "outputId": "b2205d4d-5ec6-4e82-d28d-0b4f33bcaf2c"
      },
      "execution_count": 114,
      "outputs": [
        {
          "output_type": "execute_result",
          "data": {
            "text/plain": [
              "      x   y\n",
              "0    54   1\n",
              "1    56   2\n",
              "2   102  11\n",
              "3     3   2\n",
              "4    24  33\n",
              "..  ...  ..\n",
              "95    9  92\n",
              "96   48  84\n",
              "97   64  24\n",
              "98   32  32\n",
              "99   11  12\n",
              "\n",
              "[100 rows x 2 columns]"
            ],
            "text/html": [
              "\n",
              "  <div id=\"df-064f8227-b711-4143-be8c-c08b310a8b04\">\n",
              "    <div class=\"colab-df-container\">\n",
              "      <div>\n",
              "<style scoped>\n",
              "    .dataframe tbody tr th:only-of-type {\n",
              "        vertical-align: middle;\n",
              "    }\n",
              "\n",
              "    .dataframe tbody tr th {\n",
              "        vertical-align: top;\n",
              "    }\n",
              "\n",
              "    .dataframe thead th {\n",
              "        text-align: right;\n",
              "    }\n",
              "</style>\n",
              "<table border=\"1\" class=\"dataframe\">\n",
              "  <thead>\n",
              "    <tr style=\"text-align: right;\">\n",
              "      <th></th>\n",
              "      <th>x</th>\n",
              "      <th>y</th>\n",
              "    </tr>\n",
              "  </thead>\n",
              "  <tbody>\n",
              "    <tr>\n",
              "      <th>0</th>\n",
              "      <td>54</td>\n",
              "      <td>1</td>\n",
              "    </tr>\n",
              "    <tr>\n",
              "      <th>1</th>\n",
              "      <td>56</td>\n",
              "      <td>2</td>\n",
              "    </tr>\n",
              "    <tr>\n",
              "      <th>2</th>\n",
              "      <td>102</td>\n",
              "      <td>11</td>\n",
              "    </tr>\n",
              "    <tr>\n",
              "      <th>3</th>\n",
              "      <td>3</td>\n",
              "      <td>2</td>\n",
              "    </tr>\n",
              "    <tr>\n",
              "      <th>4</th>\n",
              "      <td>24</td>\n",
              "      <td>33</td>\n",
              "    </tr>\n",
              "    <tr>\n",
              "      <th>...</th>\n",
              "      <td>...</td>\n",
              "      <td>...</td>\n",
              "    </tr>\n",
              "    <tr>\n",
              "      <th>95</th>\n",
              "      <td>9</td>\n",
              "      <td>92</td>\n",
              "    </tr>\n",
              "    <tr>\n",
              "      <th>96</th>\n",
              "      <td>48</td>\n",
              "      <td>84</td>\n",
              "    </tr>\n",
              "    <tr>\n",
              "      <th>97</th>\n",
              "      <td>64</td>\n",
              "      <td>24</td>\n",
              "    </tr>\n",
              "    <tr>\n",
              "      <th>98</th>\n",
              "      <td>32</td>\n",
              "      <td>32</td>\n",
              "    </tr>\n",
              "    <tr>\n",
              "      <th>99</th>\n",
              "      <td>11</td>\n",
              "      <td>12</td>\n",
              "    </tr>\n",
              "  </tbody>\n",
              "</table>\n",
              "<p>100 rows × 2 columns</p>\n",
              "</div>\n",
              "      <button class=\"colab-df-convert\" onclick=\"convertToInteractive('df-064f8227-b711-4143-be8c-c08b310a8b04')\"\n",
              "              title=\"Convert this dataframe to an interactive table.\"\n",
              "              style=\"display:none;\">\n",
              "        \n",
              "  <svg xmlns=\"http://www.w3.org/2000/svg\" height=\"24px\"viewBox=\"0 0 24 24\"\n",
              "       width=\"24px\">\n",
              "    <path d=\"M0 0h24v24H0V0z\" fill=\"none\"/>\n",
              "    <path d=\"M18.56 5.44l.94 2.06.94-2.06 2.06-.94-2.06-.94-.94-2.06-.94 2.06-2.06.94zm-11 1L8.5 8.5l.94-2.06 2.06-.94-2.06-.94L8.5 2.5l-.94 2.06-2.06.94zm10 10l.94 2.06.94-2.06 2.06-.94-2.06-.94-.94-2.06-.94 2.06-2.06.94z\"/><path d=\"M17.41 7.96l-1.37-1.37c-.4-.4-.92-.59-1.43-.59-.52 0-1.04.2-1.43.59L10.3 9.45l-7.72 7.72c-.78.78-.78 2.05 0 2.83L4 21.41c.39.39.9.59 1.41.59.51 0 1.02-.2 1.41-.59l7.78-7.78 2.81-2.81c.8-.78.8-2.07 0-2.86zM5.41 20L4 18.59l7.72-7.72 1.47 1.35L5.41 20z\"/>\n",
              "  </svg>\n",
              "      </button>\n",
              "      \n",
              "  <style>\n",
              "    .colab-df-container {\n",
              "      display:flex;\n",
              "      flex-wrap:wrap;\n",
              "      gap: 12px;\n",
              "    }\n",
              "\n",
              "    .colab-df-convert {\n",
              "      background-color: #E8F0FE;\n",
              "      border: none;\n",
              "      border-radius: 50%;\n",
              "      cursor: pointer;\n",
              "      display: none;\n",
              "      fill: #1967D2;\n",
              "      height: 32px;\n",
              "      padding: 0 0 0 0;\n",
              "      width: 32px;\n",
              "    }\n",
              "\n",
              "    .colab-df-convert:hover {\n",
              "      background-color: #E2EBFA;\n",
              "      box-shadow: 0px 1px 2px rgba(60, 64, 67, 0.3), 0px 1px 3px 1px rgba(60, 64, 67, 0.15);\n",
              "      fill: #174EA6;\n",
              "    }\n",
              "\n",
              "    [theme=dark] .colab-df-convert {\n",
              "      background-color: #3B4455;\n",
              "      fill: #D2E3FC;\n",
              "    }\n",
              "\n",
              "    [theme=dark] .colab-df-convert:hover {\n",
              "      background-color: #434B5C;\n",
              "      box-shadow: 0px 1px 3px 1px rgba(0, 0, 0, 0.15);\n",
              "      filter: drop-shadow(0px 1px 2px rgba(0, 0, 0, 0.3));\n",
              "      fill: #FFFFFF;\n",
              "    }\n",
              "  </style>\n",
              "\n",
              "      <script>\n",
              "        const buttonEl =\n",
              "          document.querySelector('#df-064f8227-b711-4143-be8c-c08b310a8b04 button.colab-df-convert');\n",
              "        buttonEl.style.display =\n",
              "          google.colab.kernel.accessAllowed ? 'block' : 'none';\n",
              "\n",
              "        async function convertToInteractive(key) {\n",
              "          const element = document.querySelector('#df-064f8227-b711-4143-be8c-c08b310a8b04');\n",
              "          const dataTable =\n",
              "            await google.colab.kernel.invokeFunction('convertToInteractive',\n",
              "                                                     [key], {});\n",
              "          if (!dataTable) return;\n",
              "\n",
              "          const docLinkHtml = 'Like what you see? Visit the ' +\n",
              "            '<a target=\"_blank\" href=https://colab.research.google.com/notebooks/data_table.ipynb>data table notebook</a>'\n",
              "            + ' to learn more about interactive tables.';\n",
              "          element.innerHTML = '';\n",
              "          dataTable['output_type'] = 'display_data';\n",
              "          await google.colab.output.renderOutput(dataTable, element);\n",
              "          const docLink = document.createElement('div');\n",
              "          docLink.innerHTML = docLinkHtml;\n",
              "          element.appendChild(docLink);\n",
              "        }\n",
              "      </script>\n",
              "    </div>\n",
              "  </div>\n",
              "  "
            ]
          },
          "metadata": {},
          "execution_count": 114
        }
      ]
    },
    {
      "cell_type": "code",
      "source": [
        "plt.scatter(data['x'],data['y'])"
      ],
      "metadata": {
        "colab": {
          "base_uri": "https://localhost:8080/",
          "height": 453
        },
        "id": "RtoXriN_7z21",
        "outputId": "09cd20fd-4e3a-4da8-cace-f20140311398"
      },
      "execution_count": 115,
      "outputs": [
        {
          "output_type": "execute_result",
          "data": {
            "text/plain": [
              "<matplotlib.collections.PathCollection at 0x7fac0c9b9b40>"
            ]
          },
          "metadata": {},
          "execution_count": 115
        },
        {
          "output_type": "display_data",
          "data": {
            "text/plain": [
              "<Figure size 640x480 with 1 Axes>"
            ],
            "image/png": "[encoded data removed]"
          },
          "metadata": {}
        }
      ]
    },
    {
      "cell_type": "markdown",
      "source": [
        "## Create similarity matrix"
      ],
      "metadata": {
        "id": "iGTu-XbW9GnA"
      }
    },
    {
      "cell_type": "code",
      "source": [
        "from sklearn.metrics.pairwise import cosine_similarity"
      ],
      "metadata": {
        "id": "9DC0kEM48tkf"
      },
      "execution_count": 116,
      "outputs": []
    },
    {
      "cell_type": "code",
      "source": [
        "data_matrix = data.to_numpy()\n",
        "# Calculate cosine similarity\n",
        "similarity_cos_matrix = cosine_similarity(data_matrix)"
      ],
      "metadata": {
        "id": "fQ4_Folg9IvE"
      },
      "execution_count": 117,
      "outputs": []
    },
    {
      "cell_type": "code",
      "source": [
        "print(similarity_cos_matrix)\n",
        "print(similarity_cos_matrix.shape)"
      ],
      "metadata": {
        "colab": {
          "base_uri": "https://localhost:8080/"
        },
        "id": "TPcySeqg9cfH",
        "outputId": "b8c157c2-df18-48f0-cb4a-561b42e4e045"
      },
      "execution_count": 118,
      "outputs": [
        {
          "output_type": "stream",
          "name": "stdout",
          "text": [
            "[[1.         0.99985238 0.99604997 ... 0.94266984 0.72007789 0.68925746]\n",
            " [0.99985238 1.         0.99742859 ... 0.94826473 0.73189397 0.70160425]\n",
            " [0.99604997 0.99742859 1.         ... 0.96857935 0.77884743 0.75086792]\n",
            " ...\n",
            " [0.94266984 0.94826473 0.96857935 ... 1.         0.91036648 0.89153278]\n",
            " [0.72007789 0.73189397 0.77884743 ... 0.91036648 1.         0.99905616]\n",
            " [0.68925746 0.70160425 0.75086792 ... 0.89153278 0.99905616 1.        ]]\n",
            "(100, 100)\n"
          ]
        }
      ]
    },
    {
      "cell_type": "code",
      "source": [
        "from sklearn.metrics.pairwise import euclidean_distances"
      ],
      "metadata": {
        "id": "LhdjQapz-K7-"
      },
      "execution_count": 119,
      "outputs": []
    },
    {
      "cell_type": "code",
      "source": [
        "similarity_euclidean_matrix = euclidean_distances(data_matrix)"
      ],
      "metadata": {
        "id": "be6yJ-7j-PU-"
      },
      "execution_count": 120,
      "outputs": []
    },
    {
      "cell_type": "code",
      "source": [
        "print(similarity_euclidean_matrix)\n",
        "print(similarity_cos_matrix.shape)"
      ],
      "metadata": {
        "colab": {
          "base_uri": "https://localhost:8080/"
        },
        "id": "bQorq_v9-Roa",
        "outputId": "8ca82747-e42d-4f45-91ea-34a64af8998f"
      },
      "execution_count": 121,
      "outputs": [
        {
          "output_type": "stream",
          "name": "stdout",
          "text": [
            "[[ 0.          2.23606798 49.03060269 ... 25.07987241 38.01315562\n",
            "  44.38468204]\n",
            " [ 2.23606798  0.         46.87216658 ... 23.40939982 38.41874542\n",
            "  46.09772229]\n",
            " [49.03060269 46.87216658  0.         ... 40.16217126 73.08214556\n",
            "  91.00549434]\n",
            " ...\n",
            " [25.07987241 23.40939982 40.16217126 ...  0.         32.984845\n",
            "  54.34151268]\n",
            " [38.01315562 38.41874542 73.08214556 ... 32.984845    0.\n",
            "  29.        ]\n",
            " [44.38468204 46.09772229 91.00549434 ... 54.34151268 29.\n",
            "   0.        ]]\n",
            "(100, 100)\n"
          ]
        }
      ]
    },
    {
      "cell_type": "markdown",
      "source": [
        "## Kmeans algorithm"
      ],
      "metadata": {
        "id": "1j6jFy51-lIr"
      }
    },
    {
      "cell_type": "code",
      "source": [
        "def getRandomCentroids(numFeatures, k):\n",
        "    # Generate random centroids within the range of the features\n",
        "    centroids = np.random.rand(k, numFeatures)\n",
        "    return centroids\n"
      ],
      "metadata": {
        "id": "kBvCzZ1R_Vvb"
      },
      "execution_count": 122,
      "outputs": []
    },
    {
      "cell_type": "code",
      "source": [
        "def shouldStop(oldCentroids, centroids, iterations, maxIterations=100):\n",
        "    # Stop if the maximum number of iterations is reached\n",
        "    if iterations > maxIterations:\n",
        "        return True\n",
        "    # Stop if centroids no longer change\n",
        "    if oldCentroids is not None and np.array_equal(oldCentroids, centroids):\n",
        "        return True\n",
        "    return False"
      ],
      "metadata": {
        "id": "tj18Ght2_XLG"
      },
      "execution_count": 123,
      "outputs": []
    },
    {
      "cell_type": "code",
      "source": [
        "def getLabels(dataSet, centroids,cos=True):\n",
        "    # Assign labels to each datapoint based on the nearest centroid using cosine similarity\n",
        "    if cos:\n",
        "      similarities = cosine_similarity(dataSet, centroids)\n",
        "      labels = np.argmax(similarities, axis=1)\n",
        "    else: \n",
        "      distances = euclidean_distances(dataSet, centroids)\n",
        "      labels = np.argmin(distances, axis=1)\n",
        "    return labels"
      ],
      "metadata": {
        "id": "lbZKYJ5J_YaP"
      },
      "execution_count": 124,
      "outputs": []
    },
    {
      "cell_type": "code",
      "source": [
        "def getCentroids(dataSet, labels, k):\n",
        "    # Calculate new centroids based on the mean of the datapoints in each cluster\n",
        "    centroids = np.zeros((k, dataSet.shape[1]))\n",
        "    for i in range(k):\n",
        "        clusterPoints = dataSet[labels == i]\n",
        "        if len(clusterPoints) > 0:\n",
        "            centroids[i] = np.mean(clusterPoints, axis=0)\n",
        "    return centroids"
      ],
      "metadata": {
        "id": "6cTQQ5PN_ZyR"
      },
      "execution_count": 125,
      "outputs": []
    },
    {
      "cell_type": "code",
      "source": [
        "def kmeans(dataSet, k, cos=True):\n",
        "    # Initialize centroids randomly\n",
        "    numFeatures = dataSet.shape[1]\n",
        "    centroids = getRandomCentroids(numFeatures, k)\n",
        "    \n",
        "    # Initialize bookkeeping vars\n",
        "    iterations = 0\n",
        "    oldCentroids = None\n",
        "    \n",
        "    # Run the main k-means algorithm\n",
        "    while not shouldStop(oldCentroids, centroids, iterations):\n",
        "        iterations += 1\n",
        "        \n",
        "        # Save old centroids for convergence test\n",
        "        oldCentroids = centroids\n",
        "        \n",
        "        # Assign labels to each datapoint based on centroids\n",
        "        labels = getLabels(dataSet, centroids,cos)\n",
        "        \n",
        "        # Assign centroids based on datapoint labels\n",
        "        centroids = getCentroids(dataSet, labels, k)\n",
        "    \n",
        "    return centroids\n"
      ],
      "metadata": {
        "id": "a7JSArCE_UGN"
      },
      "execution_count": 126,
      "outputs": []
    },
    {
      "cell_type": "code",
      "source": [
        "cosine_centroids = kmeans(data,4)\n",
        "euclidean_centroids = kmeans(data,4,False)"
      ],
      "metadata": {
        "id": "DWe0NaP8AXbi"
      },
      "execution_count": 127,
      "outputs": []
    },
    {
      "cell_type": "code",
      "source": [
        "euclidean_centroids"
      ],
      "metadata": {
        "colab": {
          "base_uri": "https://localhost:8080/"
        },
        "id": "L8Zpp-2RBmGX",
        "outputId": "e460389a-8573-40b2-af40-90c38639005e"
      },
      "execution_count": 128,
      "outputs": [
        {
          "output_type": "execute_result",
          "data": {
            "text/plain": [
              "array([[108.05      ,  56.1       ],\n",
              "       [ 48.96969697,  70.48484848],\n",
              "       [ 38.93333333,  21.13333333],\n",
              "       [ 57.29411765, 144.35294118]])"
            ]
          },
          "metadata": {},
          "execution_count": 128
        }
      ]
    },
    {
      "cell_type": "code",
      "source": [
        "cosine_centroids"
      ],
      "metadata": {
        "colab": {
          "base_uri": "https://localhost:8080/"
        },
        "id": "D1GsHaeUFBgK",
        "outputId": "7f8b0bb3-e811-4237-cde3-01cf179856e1"
      },
      "execution_count": 129,
      "outputs": [
        {
          "output_type": "execute_result",
          "data": {
            "text/plain": [
              "array([[ 35.46875   , 101.28125   ],\n",
              "       [ 81.08333333,  45.16666667],\n",
              "       [ 59.41935484,  66.29032258],\n",
              "       [ 76.61538462,  12.        ]])"
            ]
          },
          "metadata": {},
          "execution_count": 129
        }
      ]
    },
    {
      "cell_type": "code",
      "source": [
        "def plotClusters(dataSet, centroids,cos=True):\n",
        "    # Assign labels to each datapoint based on the nearest centroid using cosine similarity\n",
        "\n",
        "    labels = getLabels(dataSet,centroids,cos)\n",
        "\n",
        "    color_map = plt.get_cmap('tab10')\n",
        "    for i in range(len(dataSet)):\n",
        "      color = color_map(labels[i])\n",
        "      plt.scatter(dataSet['x'][i], dataSet['y'][i], c=color)\n",
        "\n",
        "    # Plot the centroids with a different marker and color\n",
        "    for i in range(len(centroids)):\n",
        "       plt.scatter(centroids[i][0], centroids[i][1], marker='x', c=color_map(i+len(dataSet)), label=f'Centroid {i}')\n",
        "    \n",
        "    plt.xlabel('X-axis')\n",
        "    plt.ylabel('Y-axis')\n",
        "    if cos:\n",
        "      plt.title('K-Means Clustering using cosine similarity')\n",
        "    else:\n",
        "      plt.title('K-Means Clustering using Euclidean Distance')\n",
        "    plt.legend()\n",
        "    plt.show()\n"
      ],
      "metadata": {
        "id": "Rily4e5-DWzD"
      },
      "execution_count": 130,
      "outputs": []
    },
    {
      "cell_type": "markdown",
      "source": [
        "## Plot using Cosine Similarity"
      ],
      "metadata": {
        "id": "vbPYXZiWIuR5"
      }
    },
    {
      "cell_type": "code",
      "source": [
        "plotClusters(data,cosine_centroids)"
      ],
      "metadata": {
        "colab": {
          "base_uri": "https://localhost:8080/",
          "height": 564
        },
        "id": "nNoWWfvwHe39",
        "outputId": "2d8bcfac-07bd-43fa-94ab-0218d568be29"
      },
      "execution_count": 131,
      "outputs": [
        {
          "output_type": "stream",
          "name": "stderr",
          "text": [
            "<ipython-input-130-c52b37c8288c>:9: UserWarning: *c* argument looks like a single numeric RGB or RGBA sequence, which should be avoided as value-mapping will have precedence in case its length matches with *x* & *y*.  Please use the *color* keyword-argument or provide a 2D array with a single row if you intend to specify the same RGB or RGBA value for all points.\n",
            "  plt.scatter(dataSet['x'][i], dataSet['y'][i], c=color)\n",
            "<ipython-input-130-c52b37c8288c>:13: UserWarning: *c* argument looks like a single numeric RGB or RGBA sequence, which should be avoided as value-mapping will have precedence in case its length matches with *x* & *y*.  Please use the *color* keyword-argument or provide a 2D array with a single row if you intend to specify the same RGB or RGBA value for all points.\n",
            "  plt.scatter(centroids[i][0], centroids[i][1], marker='x', c=color_map(i+len(dataSet)), label=f'Centroid {i}')\n"
          ]
        },
        {
          "output_type": "display_data",
          "data": {
            "text/plain": [
              "<Figure size 640x480 with 1 Axes>"
            ],
            "image/png": "[encoded data removed]"
          },
          "metadata": {}
        }
      ]
    },
    {
      "cell_type": "markdown",
      "source": [
        "## Plot using Euclidean Distance"
      ],
      "metadata": {
        "id": "JxQaoETpIzEp"
      }
    },
    {
      "cell_type": "code",
      "source": [
        "plotClusters(data,cosine_centroids,False)"
      ],
      "metadata": {
        "colab": {
          "base_uri": "https://localhost:8080/",
          "height": 564
        },
        "id": "HIigTHWjHhRV",
        "outputId": "13b9b269-be59-498a-b29a-1d6d7e5ed5d3"
      },
      "execution_count": 132,
      "outputs": [
        {
          "output_type": "stream",
          "name": "stderr",
          "text": [
            "<ipython-input-130-c52b37c8288c>:9: UserWarning: *c* argument looks like a single numeric RGB or RGBA sequence, which should be avoided as value-mapping will have precedence in case its length matches with *x* & *y*.  Please use the *color* keyword-argument or provide a 2D array with a single row if you intend to specify the same RGB or RGBA value for all points.\n",
            "  plt.scatter(dataSet['x'][i], dataSet['y'][i], c=color)\n",
            "<ipython-input-130-c52b37c8288c>:13: UserWarning: *c* argument looks like a single numeric RGB or RGBA sequence, which should be avoided as value-mapping will have precedence in case its length matches with *x* & *y*.  Please use the *color* keyword-argument or provide a 2D array with a single row if you intend to specify the same RGB or RGBA value for all points.\n",
            "  plt.scatter(centroids[i][0], centroids[i][1], marker='x', c=color_map(i+len(dataSet)), label=f'Centroid {i}')\n"
          ]
        },
        {
          "output_type": "display_data",
          "data": {
            "text/plain": [
              "<Figure size 640x480 with 1 Axes>"
            ],
            "image/png": "[encoded data removed]"
          },
          "metadata": {}
        }
      ]
    }
  ]
}