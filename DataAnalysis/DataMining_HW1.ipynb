{
  "nbformat": 4,
  "nbformat_minor": 0,
  "metadata": {
    "colab": {
      "provenance": [],
      "collapsed_sections": [
        "luOpHSImgBKT",
        "4hiP4plcgCiE",
        "rhhvsiKDgEoM",
        "WKlTzn4zhGje",
        "9e0cdpeFx6vH"
      ]
    },
    "kernelspec": {
      "name": "python3",
      "display_name": "Python 3"
    },
    "language_info": {
      "name": "python"
    }
  },
  "cells": [
    {
      "cell_type": "code",
      "execution_count": 1,
      "metadata": {
        "colab": {
          "base_uri": "https://localhost:8080/"
        },
        "id": "DSFPfF7nZ1Iu",
        "outputId": "9beed5b1-7cce-4075-f233-5f42d61b1dd4"
      },
      "outputs": [
        {
          "output_type": "stream",
          "name": "stdout",
          "text": [
            "Downloading...\n",
            "From: https://drive.google.com/uc?id=1shrKC8izdro7oX3MMCl3Q-h09Bj3XoSK\n",
            "To: /content/penguins.csv\n",
            "\r  0% 0.00/13.8k [00:00<?, ?B/s]\r100% 13.8k/13.8k [00:00<00:00, 13.3MB/s]\n"
          ]
        }
      ],
      "source": [
        "!gdown 1shrKC8izdro7oX3MMCl3Q-h09Bj3XoSK"
      ]
    },
    {
      "cell_type": "code",
      "source": [
        "import pandas as pd"
      ],
      "metadata": {
        "id": "DNNLWSmAdOFF"
      },
      "execution_count": 2,
      "outputs": []
    },
    {
      "cell_type": "code",
      "source": [
        "dataset = pd.read_csv('penguins.csv',sep=',',names=['island','bill_length_mm','bill_depth_mm','flipper_length_mm','body_mass_g','sex','species'])"
      ],
      "metadata": {
        "id": "YqK5kHSTdIYv"
      },
      "execution_count": 3,
      "outputs": []
    },
    {
      "cell_type": "code",
      "source": [
        "dataset"
      ],
      "metadata": {
        "colab": {
          "base_uri": "https://localhost:8080/",
          "height": 424
        },
        "id": "_W7vGeBndQin",
        "outputId": "f136f562-5da7-47ef-94ec-7c8cb9e6248b"
      },
      "execution_count": 4,
      "outputs": [
        {
          "output_type": "execute_result",
          "data": {
            "text/plain": [
              "        island  bill_length_mm  bill_depth_mm  flipper_length_mm  body_mass_g  \\\n",
              "0    Torgersen            39.1           18.7              181.0       3750.0   \n",
              "1    Torgersen            39.5           17.4              186.0       3800.0   \n",
              "2    Torgersen            40.3           18.0              195.0       3250.0   \n",
              "3    Torgersen             NaN            NaN                NaN          NaN   \n",
              "4    Torgersen            36.7           19.3              193.0       3450.0   \n",
              "..         ...             ...            ...                ...          ...   \n",
              "339      Dream            55.8           19.8              207.0       4000.0   \n",
              "340      Dream            43.5           18.1              202.0       3400.0   \n",
              "341      Dream            49.6           18.2              193.0       3775.0   \n",
              "342      Dream            50.8           19.0              210.0       4100.0   \n",
              "343      Dream            50.2           18.7              198.0       3775.0   \n",
              "\n",
              "        sex    species  \n",
              "0      male     Adelie  \n",
              "1    female     Adelie  \n",
              "2    female     Adelie  \n",
              "3       NaN     Adelie  \n",
              "4    female     Adelie  \n",
              "..      ...        ...  \n",
              "339    male  Chinstrap  \n",
              "340  female  Chinstrap  \n",
              "341    male  Chinstrap  \n",
              "342    male  Chinstrap  \n",
              "343  female  Chinstrap  \n",
              "\n",
              "[344 rows x 7 columns]"
            ],
            "text/html": [
              "\n",
              "  <div id=\"df-237d5137-dfc7-4244-8c28-1b8326c12dfa\">\n",
              "    <div class=\"colab-df-container\">\n",
              "      <div>\n",
              "<style scoped>\n",
              "    .dataframe tbody tr th:only-of-type {\n",
              "        vertical-align: middle;\n",
              "    }\n",
              "\n",
              "    .dataframe tbody tr th {\n",
              "        vertical-align: top;\n",
              "    }\n",
              "\n",
              "    .dataframe thead th {\n",
              "        text-align: right;\n",
              "    }\n",
              "</style>\n",
              "<table border=\"1\" class=\"dataframe\">\n",
              "  <thead>\n",
              "    <tr style=\"text-align: right;\">\n",
              "      <th></th>\n",
              "      <th>island</th>\n",
              "      <th>bill_length_mm</th>\n",
              "      <th>bill_depth_mm</th>\n",
              "      <th>flipper_length_mm</th>\n",
              "      <th>body_mass_g</th>\n",
              "      <th>sex</th>\n",
              "      <th>species</th>\n",
              "    </tr>\n",
              "  </thead>\n",
              "  <tbody>\n",
              "    <tr>\n",
              "      <th>0</th>\n",
              "      <td>Torgersen</td>\n",
              "      <td>39.1</td>\n",
              "      <td>18.7</td>\n",
              "      <td>181.0</td>\n",
              "      <td>3750.0</td>\n",
              "      <td>male</td>\n",
              "      <td>Adelie</td>\n",
              "    </tr>\n",
              "    <tr>\n",
              "      <th>1</th>\n",
              "      <td>Torgersen</td>\n",
              "      <td>39.5</td>\n",
              "      <td>17.4</td>\n",
              "      <td>186.0</td>\n",
              "      <td>3800.0</td>\n",
              "      <td>female</td>\n",
              "      <td>Adelie</td>\n",
              "    </tr>\n",
              "    <tr>\n",
              "      <th>2</th>\n",
              "      <td>Torgersen</td>\n",
              "      <td>40.3</td>\n",
              "      <td>18.0</td>\n",
              "      <td>195.0</td>\n",
              "      <td>3250.0</td>\n",
              "      <td>female</td>\n",
              "      <td>Adelie</td>\n",
              "    </tr>\n",
              "    <tr>\n",
              "      <th>3</th>\n",
              "      <td>Torgersen</td>\n",
              "      <td>NaN</td>\n",
              "      <td>NaN</td>\n",
              "      <td>NaN</td>\n",
              "      <td>NaN</td>\n",
              "      <td>NaN</td>\n",
              "      <td>Adelie</td>\n",
              "    </tr>\n",
              "    <tr>\n",
              "      <th>4</th>\n",
              "      <td>Torgersen</td>\n",
              "      <td>36.7</td>\n",
              "      <td>19.3</td>\n",
              "      <td>193.0</td>\n",
              "      <td>3450.0</td>\n",
              "      <td>female</td>\n",
              "      <td>Adelie</td>\n",
              "    </tr>\n",
              "    <tr>\n",
              "      <th>...</th>\n",
              "      <td>...</td>\n",
              "      <td>...</td>\n",
              "      <td>...</td>\n",
              "      <td>...</td>\n",
              "      <td>...</td>\n",
              "      <td>...</td>\n",
              "      <td>...</td>\n",
              "    </tr>\n",
              "    <tr>\n",
              "      <th>339</th>\n",
              "      <td>Dream</td>\n",
              "      <td>55.8</td>\n",
              "      <td>19.8</td>\n",
              "      <td>207.0</td>\n",
              "      <td>4000.0</td>\n",
              "      <td>male</td>\n",
              "      <td>Chinstrap</td>\n",
              "    </tr>\n",
              "    <tr>\n",
              "      <th>340</th>\n",
              "      <td>Dream</td>\n",
              "      <td>43.5</td>\n",
              "      <td>18.1</td>\n",
              "      <td>202.0</td>\n",
              "      <td>3400.0</td>\n",
              "      <td>female</td>\n",
              "      <td>Chinstrap</td>\n",
              "    </tr>\n",
              "    <tr>\n",
              "      <th>341</th>\n",
              "      <td>Dream</td>\n",
              "      <td>49.6</td>\n",
              "      <td>18.2</td>\n",
              "      <td>193.0</td>\n",
              "      <td>3775.0</td>\n",
              "      <td>male</td>\n",
              "      <td>Chinstrap</td>\n",
              "    </tr>\n",
              "    <tr>\n",
              "      <th>342</th>\n",
              "      <td>Dream</td>\n",
              "      <td>50.8</td>\n",
              "      <td>19.0</td>\n",
              "      <td>210.0</td>\n",
              "      <td>4100.0</td>\n",
              "      <td>male</td>\n",
              "      <td>Chinstrap</td>\n",
              "    </tr>\n",
              "    <tr>\n",
              "      <th>343</th>\n",
              "      <td>Dream</td>\n",
              "      <td>50.2</td>\n",
              "      <td>18.7</td>\n",
              "      <td>198.0</td>\n",
              "      <td>3775.0</td>\n",
              "      <td>female</td>\n",
              "      <td>Chinstrap</td>\n",
              "    </tr>\n",
              "  </tbody>\n",
              "</table>\n",
              "<p>344 rows × 7 columns</p>\n",
              "</div>\n",
              "      <button class=\"colab-df-convert\" onclick=\"convertToInteractive('df-237d5137-dfc7-4244-8c28-1b8326c12dfa')\"\n",
              "              title=\"Convert this dataframe to an interactive table.\"\n",
              "              style=\"display:none;\">\n",
              "        \n",
              "  <svg xmlns=\"http://www.w3.org/2000/svg\" height=\"24px\"viewBox=\"0 0 24 24\"\n",
              "       width=\"24px\">\n",
              "    <path d=\"M0 0h24v24H0V0z\" fill=\"none\"/>\n",
              "    <path d=\"M18.56 5.44l.94 2.06.94-2.06 2.06-.94-2.06-.94-.94-2.06-.94 2.06-2.06.94zm-11 1L8.5 8.5l.94-2.06 2.06-.94-2.06-.94L8.5 2.5l-.94 2.06-2.06.94zm10 10l.94 2.06.94-2.06 2.06-.94-2.06-.94-.94-2.06-.94 2.06-2.06.94z\"/><path d=\"M17.41 7.96l-1.37-1.37c-.4-.4-.92-.59-1.43-.59-.52 0-1.04.2-1.43.59L10.3 9.45l-7.72 7.72c-.78.78-.78 2.05 0 2.83L4 21.41c.39.39.9.59 1.41.59.51 0 1.02-.2 1.41-.59l7.78-7.78 2.81-2.81c.8-.78.8-2.07 0-2.86zM5.41 20L4 18.59l7.72-7.72 1.47 1.35L5.41 20z\"/>\n",
              "  </svg>\n",
              "      </button>\n",
              "      \n",
              "  <style>\n",
              "    .colab-df-container {\n",
              "      display:flex;\n",
              "      flex-wrap:wrap;\n",
              "      gap: 12px;\n",
              "    }\n",
              "\n",
              "    .colab-df-convert {\n",
              "      background-color: #E8F0FE;\n",
              "      border: none;\n",
              "      border-radius: 50%;\n",
              "      cursor: pointer;\n",
              "      display: none;\n",
              "      fill: #1967D2;\n",
              "      height: 32px;\n",
              "      padding: 0 0 0 0;\n",
              "      width: 32px;\n",
              "    }\n",
              "\n",
              "    .colab-df-convert:hover {\n",
              "      background-color: #E2EBFA;\n",
              "      box-shadow: 0px 1px 2px rgba(60, 64, 67, 0.3), 0px 1px 3px 1px rgba(60, 64, 67, 0.15);\n",
              "      fill: #174EA6;\n",
              "    }\n",
              "\n",
              "    [theme=dark] .colab-df-convert {\n",
              "      background-color: #3B4455;\n",
              "      fill: #D2E3FC;\n",
              "    }\n",
              "\n",
              "    [theme=dark] .colab-df-convert:hover {\n",
              "      background-color: #434B5C;\n",
              "      box-shadow: 0px 1px 3px 1px rgba(0, 0, 0, 0.15);\n",
              "      filter: drop-shadow(0px 1px 2px rgba(0, 0, 0, 0.3));\n",
              "      fill: #FFFFFF;\n",
              "    }\n",
              "  </style>\n",
              "\n",
              "      <script>\n",
              "        const buttonEl =\n",
              "          document.querySelector('#df-237d5137-dfc7-4244-8c28-1b8326c12dfa button.colab-df-convert');\n",
              "        buttonEl.style.display =\n",
              "          google.colab.kernel.accessAllowed ? 'block' : 'none';\n",
              "\n",
              "        async function convertToInteractive(key) {\n",
              "          const element = document.querySelector('#df-237d5137-dfc7-4244-8c28-1b8326c12dfa');\n",
              "          const dataTable =\n",
              "            await google.colab.kernel.invokeFunction('convertToInteractive',\n",
              "                                                     [key], {});\n",
              "          if (!dataTable) return;\n",
              "\n",
              "          const docLinkHtml = 'Like what you see? Visit the ' +\n",
              "            '<a target=\"_blank\" href=https://colab.research.google.com/notebooks/data_table.ipynb>data table notebook</a>'\n",
              "            + ' to learn more about interactive tables.';\n",
              "          element.innerHTML = '';\n",
              "          dataTable['output_type'] = 'display_data';\n",
              "          await google.colab.output.renderOutput(dataTable, element);\n",
              "          const docLink = document.createElement('div');\n",
              "          docLink.innerHTML = docLinkHtml;\n",
              "          element.appendChild(docLink);\n",
              "        }\n",
              "      </script>\n",
              "    </div>\n",
              "  </div>\n",
              "  "
            ]
          },
          "metadata": {},
          "execution_count": 4
        }
      ]
    },
    {
      "cell_type": "markdown",
      "source": [
        "## Data Loss"
      ],
      "metadata": {
        "id": "luOpHSImgBKT"
      }
    },
    {
      "cell_type": "markdown",
      "source": [
        "### Q1"
      ],
      "metadata": {
        "id": "4hiP4plcgCiE"
      }
    },
    {
      "cell_type": "code",
      "source": [
        "print(f\"{dataset.dropna().shape[0]} rows have no NAN value in themselves\")\n",
        "print(f\"{dataset.shape[0] - dataset.dropna().shape[0]} rows have NAN value in themselves\")"
      ],
      "metadata": {
        "colab": {
          "base_uri": "https://localhost:8080/"
        },
        "id": "jcxvWYqCfcqC",
        "outputId": "ed663814-6747-4e5b-9fb2-16feda26f785"
      },
      "execution_count": 5,
      "outputs": [
        {
          "output_type": "stream",
          "name": "stdout",
          "text": [
            "333 rows have no NAN value in themselves\n",
            "11 rows have NAN value in themselves\n"
          ]
        }
      ]
    },
    {
      "cell_type": "code",
      "source": [
        "print(f\"Island column consists of {dataset['island'].isna().sum()} Nan.\")\n",
        "print(f\"Bill_length_mm column consists of {dataset['bill_length_mm'].isna().sum()} Nans.\")\n",
        "print(f\"Bill_depth_mm column consists of {dataset['bill_depth_mm'].isna().sum()} Nans.\")\n",
        "print(f\"Flipper_length_mm  consists of {dataset['flipper_length_mm'].isna().sum()} Nans.\")\n",
        "print(f\"Body_mass_g column consists of {dataset['body_mass_g'].isna().sum()} Nans.\")\n",
        "print(f\"Sex column consists of {dataset['sex'].isna().sum()} Nans.\")\n",
        "print(f\"Species column consists of {dataset['species'].isna().sum()} Nan.\")"
      ],
      "metadata": {
        "colab": {
          "base_uri": "https://localhost:8080/"
        },
        "id": "QmC0EIc4dmzo",
        "outputId": "cb53a421-097c-4c19-eaad-c392be679a3e"
      },
      "execution_count": 6,
      "outputs": [
        {
          "output_type": "stream",
          "name": "stdout",
          "text": [
            "Island column consists of 0 Nan.\n",
            "Bill_length_mm column consists of 2 Nans.\n",
            "Bill_depth_mm column consists of 2 Nans.\n",
            "Flipper_length_mm  consists of 2 Nans.\n",
            "Body_mass_g column consists of 2 Nans.\n",
            "Sex column consists of 11 Nans.\n",
            "Species column consists of 0 Nan.\n"
          ]
        }
      ]
    },
    {
      "cell_type": "markdown",
      "source": [
        "### Q2"
      ],
      "metadata": {
        "id": "rhhvsiKDgEoM"
      }
    },
    {
      "cell_type": "code",
      "source": [
        "print(f'rows number BEFORE removing NANs {dataset.shape[0]}.')\n",
        "print(f'rows number AFTER removing Nans {dataset.dropna().shape[0]}.')"
      ],
      "metadata": {
        "colab": {
          "base_uri": "https://localhost:8080/"
        },
        "id": "F9UG93zGgGgg",
        "outputId": "ffcd89f3-9e97-48a7-ac2a-fb6d54d578b0"
      },
      "execution_count": 7,
      "outputs": [
        {
          "output_type": "stream",
          "name": "stdout",
          "text": [
            "rows number BEFORE removing NANs 344.\n",
            "rows number AFTER removing Nans 333.\n"
          ]
        }
      ]
    },
    {
      "cell_type": "markdown",
      "source": [
        "### Q3"
      ],
      "metadata": {
        "id": "WKlTzn4zhGje"
      }
    },
    {
      "cell_type": "code",
      "source": [
        "import numpy as np\n",
        "from sklearn.impute import SimpleImputer\n",
        "from sklearn.compose import ColumnTransformer\n",
        "from sklearn.pipeline import Pipeline\n"
      ],
      "metadata": {
        "id": "MJtuOG3FiM7p"
      },
      "execution_count": 8,
      "outputs": []
    },
    {
      "cell_type": "code",
      "source": [
        "target_numeric_cols = ['bill_length_mm','bill_depth_mm','flipper_length_mm','body_mass_g']"
      ],
      "metadata": {
        "id": "Cq1dpJUpgGRI"
      },
      "execution_count": 9,
      "outputs": []
    },
    {
      "cell_type": "code",
      "source": [
        "pipeline = ColumnTransformer(transformers=[\n",
        "    ('imputer', SimpleImputer(strategy='mean'), target_numeric_cols)\n",
        "], remainder='passthrough')"
      ],
      "metadata": {
        "id": "wxq5fn2fjn4_"
      },
      "execution_count": 10,
      "outputs": []
    },
    {
      "cell_type": "code",
      "source": [
        "X_filled = pipeline.fit_transform(dataset)"
      ],
      "metadata": {
        "id": "rPp0U95DjyCu"
      },
      "execution_count": 11,
      "outputs": []
    },
    {
      "cell_type": "code",
      "source": [
        "temp = pd.DataFrame(X_filled, columns=['island','bill_length_mm','bill_depth_mm','flipper_length_mm','body_mass_g','sex','species'])"
      ],
      "metadata": {
        "id": "UkVc6TXWlRwR"
      },
      "execution_count": 12,
      "outputs": []
    },
    {
      "cell_type": "code",
      "source": [
        "target_cols = ['species','sex','island']\n",
        "pipeline = ColumnTransformer(transformers=[\n",
        "    ('imputer', SimpleImputer(strategy='most_frequent'), target_cols)\n",
        "], remainder='passthrough')"
      ],
      "metadata": {
        "id": "ZcGx1Ci8xHYH"
      },
      "execution_count": 13,
      "outputs": []
    },
    {
      "cell_type": "code",
      "source": [
        "X_filled = pipeline.fit_transform(temp)"
      ],
      "metadata": {
        "id": "NSr-pgIgxi2_"
      },
      "execution_count": 14,
      "outputs": []
    },
    {
      "cell_type": "code",
      "source": [
        "dataset = pd.DataFrame(X_filled,columns=['species','sex','bill_length_mm','bill_depth_mm','flipper_length_mm','body_mass_g','island'])"
      ],
      "metadata": {
        "id": "W6QCDwGOnGbS"
      },
      "execution_count": 15,
      "outputs": []
    },
    {
      "cell_type": "code",
      "source": [
        "# we can see the size of droping nans without dropping them is the same\n",
        "dataset.dropna().shape[0]"
      ],
      "metadata": {
        "colab": {
          "base_uri": "https://localhost:8080/"
        },
        "id": "o94hDBYKxrll",
        "outputId": "b2baa499-7bf6-46d0-9c9c-cd424afd3a60"
      },
      "execution_count": 16,
      "outputs": [
        {
          "output_type": "execute_result",
          "data": {
            "text/plain": [
              "344"
            ]
          },
          "metadata": {},
          "execution_count": 16
        }
      ]
    },
    {
      "cell_type": "code",
      "source": [
        "dataset"
      ],
      "metadata": {
        "colab": {
          "base_uri": "https://localhost:8080/",
          "height": 0
        },
        "id": "x999qtMbmpI2",
        "outputId": "a39131bb-2a9e-42fb-c312-3795c8093ad6"
      },
      "execution_count": 17,
      "outputs": [
        {
          "output_type": "execute_result",
          "data": {
            "text/plain": [
              "       species     sex bill_length_mm bill_depth_mm flipper_length_mm  \\\n",
              "0       Adelie    male           39.1          18.7             181.0   \n",
              "1       Adelie  female           39.5          17.4             186.0   \n",
              "2       Adelie  female           40.3          18.0             195.0   \n",
              "3       Adelie    male       43.92193      17.15117        200.915205   \n",
              "4       Adelie  female           36.7          19.3             193.0   \n",
              "..         ...     ...            ...           ...               ...   \n",
              "339  Chinstrap    male           55.8          19.8             207.0   \n",
              "340  Chinstrap  female           43.5          18.1             202.0   \n",
              "341  Chinstrap    male           49.6          18.2             193.0   \n",
              "342  Chinstrap    male           50.8          19.0             210.0   \n",
              "343  Chinstrap  female           50.2          18.7             198.0   \n",
              "\n",
              "     body_mass_g     island  \n",
              "0         3750.0  Torgersen  \n",
              "1         3800.0  Torgersen  \n",
              "2         3250.0  Torgersen  \n",
              "3    4201.754386  Torgersen  \n",
              "4         3450.0  Torgersen  \n",
              "..           ...        ...  \n",
              "339       4000.0      Dream  \n",
              "340       3400.0      Dream  \n",
              "341       3775.0      Dream  \n",
              "342       4100.0      Dream  \n",
              "343       3775.0      Dream  \n",
              "\n",
              "[344 rows x 7 columns]"
            ],
            "text/html": [
              "\n",
              "  <div id=\"df-7fc71458-cdac-4d04-a6be-eebba989e135\">\n",
              "    <div class=\"colab-df-container\">\n",
              "      <div>\n",
              "<style scoped>\n",
              "    .dataframe tbody tr th:only-of-type {\n",
              "        vertical-align: middle;\n",
              "    }\n",
              "\n",
              "    .dataframe tbody tr th {\n",
              "        vertical-align: top;\n",
              "    }\n",
              "\n",
              "    .dataframe thead th {\n",
              "        text-align: right;\n",
              "    }\n",
              "</style>\n",
              "<table border=\"1\" class=\"dataframe\">\n",
              "  <thead>\n",
              "    <tr style=\"text-align: right;\">\n",
              "      <th></th>\n",
              "      <th>species</th>\n",
              "      <th>sex</th>\n",
              "      <th>bill_length_mm</th>\n",
              "      <th>bill_depth_mm</th>\n",
              "      <th>flipper_length_mm</th>\n",
              "      <th>body_mass_g</th>\n",
              "      <th>island</th>\n",
              "    </tr>\n",
              "  </thead>\n",
              "  <tbody>\n",
              "    <tr>\n",
              "      <th>0</th>\n",
              "      <td>Adelie</td>\n",
              "      <td>male</td>\n",
              "      <td>39.1</td>\n",
              "      <td>18.7</td>\n",
              "      <td>181.0</td>\n",
              "      <td>3750.0</td>\n",
              "      <td>Torgersen</td>\n",
              "    </tr>\n",
              "    <tr>\n",
              "      <th>1</th>\n",
              "      <td>Adelie</td>\n",
              "      <td>female</td>\n",
              "      <td>39.5</td>\n",
              "      <td>17.4</td>\n",
              "      <td>186.0</td>\n",
              "      <td>3800.0</td>\n",
              "      <td>Torgersen</td>\n",
              "    </tr>\n",
              "    <tr>\n",
              "      <th>2</th>\n",
              "      <td>Adelie</td>\n",
              "      <td>female</td>\n",
              "      <td>40.3</td>\n",
              "      <td>18.0</td>\n",
              "      <td>195.0</td>\n",
              "      <td>3250.0</td>\n",
              "      <td>Torgersen</td>\n",
              "    </tr>\n",
              "    <tr>\n",
              "      <th>3</th>\n",
              "      <td>Adelie</td>\n",
              "      <td>male</td>\n",
              "      <td>43.92193</td>\n",
              "      <td>17.15117</td>\n",
              "      <td>200.915205</td>\n",
              "      <td>4201.754386</td>\n",
              "      <td>Torgersen</td>\n",
              "    </tr>\n",
              "    <tr>\n",
              "      <th>4</th>\n",
              "      <td>Adelie</td>\n",
              "      <td>female</td>\n",
              "      <td>36.7</td>\n",
              "      <td>19.3</td>\n",
              "      <td>193.0</td>\n",
              "      <td>3450.0</td>\n",
              "      <td>Torgersen</td>\n",
              "    </tr>\n",
              "    <tr>\n",
              "      <th>...</th>\n",
              "      <td>...</td>\n",
              "      <td>...</td>\n",
              "      <td>...</td>\n",
              "      <td>...</td>\n",
              "      <td>...</td>\n",
              "      <td>...</td>\n",
              "      <td>...</td>\n",
              "    </tr>\n",
              "    <tr>\n",
              "      <th>339</th>\n",
              "      <td>Chinstrap</td>\n",
              "      <td>male</td>\n",
              "      <td>55.8</td>\n",
              "      <td>19.8</td>\n",
              "      <td>207.0</td>\n",
              "      <td>4000.0</td>\n",
              "      <td>Dream</td>\n",
              "    </tr>\n",
              "    <tr>\n",
              "      <th>340</th>\n",
              "      <td>Chinstrap</td>\n",
              "      <td>female</td>\n",
              "      <td>43.5</td>\n",
              "      <td>18.1</td>\n",
              "      <td>202.0</td>\n",
              "      <td>3400.0</td>\n",
              "      <td>Dream</td>\n",
              "    </tr>\n",
              "    <tr>\n",
              "      <th>341</th>\n",
              "      <td>Chinstrap</td>\n",
              "      <td>male</td>\n",
              "      <td>49.6</td>\n",
              "      <td>18.2</td>\n",
              "      <td>193.0</td>\n",
              "      <td>3775.0</td>\n",
              "      <td>Dream</td>\n",
              "    </tr>\n",
              "    <tr>\n",
              "      <th>342</th>\n",
              "      <td>Chinstrap</td>\n",
              "      <td>male</td>\n",
              "      <td>50.8</td>\n",
              "      <td>19.0</td>\n",
              "      <td>210.0</td>\n",
              "      <td>4100.0</td>\n",
              "      <td>Dream</td>\n",
              "    </tr>\n",
              "    <tr>\n",
              "      <th>343</th>\n",
              "      <td>Chinstrap</td>\n",
              "      <td>female</td>\n",
              "      <td>50.2</td>\n",
              "      <td>18.7</td>\n",
              "      <td>198.0</td>\n",
              "      <td>3775.0</td>\n",
              "      <td>Dream</td>\n",
              "    </tr>\n",
              "  </tbody>\n",
              "</table>\n",
              "<p>344 rows × 7 columns</p>\n",
              "</div>\n",
              "      <button class=\"colab-df-convert\" onclick=\"convertToInteractive('df-7fc71458-cdac-4d04-a6be-eebba989e135')\"\n",
              "              title=\"Convert this dataframe to an interactive table.\"\n",
              "              style=\"display:none;\">\n",
              "        \n",
              "  <svg xmlns=\"http://www.w3.org/2000/svg\" height=\"24px\"viewBox=\"0 0 24 24\"\n",
              "       width=\"24px\">\n",
              "    <path d=\"M0 0h24v24H0V0z\" fill=\"none\"/>\n",
              "    <path d=\"M18.56 5.44l.94 2.06.94-2.06 2.06-.94-2.06-.94-.94-2.06-.94 2.06-2.06.94zm-11 1L8.5 8.5l.94-2.06 2.06-.94-2.06-.94L8.5 2.5l-.94 2.06-2.06.94zm10 10l.94 2.06.94-2.06 2.06-.94-2.06-.94-.94-2.06-.94 2.06-2.06.94z\"/><path d=\"M17.41 7.96l-1.37-1.37c-.4-.4-.92-.59-1.43-.59-.52 0-1.04.2-1.43.59L10.3 9.45l-7.72 7.72c-.78.78-.78 2.05 0 2.83L4 21.41c.39.39.9.59 1.41.59.51 0 1.02-.2 1.41-.59l7.78-7.78 2.81-2.81c.8-.78.8-2.07 0-2.86zM5.41 20L4 18.59l7.72-7.72 1.47 1.35L5.41 20z\"/>\n",
              "  </svg>\n",
              "      </button>\n",
              "      \n",
              "  <style>\n",
              "    .colab-df-container {\n",
              "      display:flex;\n",
              "      flex-wrap:wrap;\n",
              "      gap: 12px;\n",
              "    }\n",
              "\n",
              "    .colab-df-convert {\n",
              "      background-color: #E8F0FE;\n",
              "      border: none;\n",
              "      border-radius: 50%;\n",
              "      cursor: pointer;\n",
              "      display: none;\n",
              "      fill: #1967D2;\n",
              "      height: 32px;\n",
              "      padding: 0 0 0 0;\n",
              "      width: 32px;\n",
              "    }\n",
              "\n",
              "    .colab-df-convert:hover {\n",
              "      background-color: #E2EBFA;\n",
              "      box-shadow: 0px 1px 2px rgba(60, 64, 67, 0.3), 0px 1px 3px 1px rgba(60, 64, 67, 0.15);\n",
              "      fill: #174EA6;\n",
              "    }\n",
              "\n",
              "    [theme=dark] .colab-df-convert {\n",
              "      background-color: #3B4455;\n",
              "      fill: #D2E3FC;\n",
              "    }\n",
              "\n",
              "    [theme=dark] .colab-df-convert:hover {\n",
              "      background-color: #434B5C;\n",
              "      box-shadow: 0px 1px 3px 1px rgba(0, 0, 0, 0.15);\n",
              "      filter: drop-shadow(0px 1px 2px rgba(0, 0, 0, 0.3));\n",
              "      fill: #FFFFFF;\n",
              "    }\n",
              "  </style>\n",
              "\n",
              "      <script>\n",
              "        const buttonEl =\n",
              "          document.querySelector('#df-7fc71458-cdac-4d04-a6be-eebba989e135 button.colab-df-convert');\n",
              "        buttonEl.style.display =\n",
              "          google.colab.kernel.accessAllowed ? 'block' : 'none';\n",
              "\n",
              "        async function convertToInteractive(key) {\n",
              "          const element = document.querySelector('#df-7fc71458-cdac-4d04-a6be-eebba989e135');\n",
              "          const dataTable =\n",
              "            await google.colab.kernel.invokeFunction('convertToInteractive',\n",
              "                                                     [key], {});\n",
              "          if (!dataTable) return;\n",
              "\n",
              "          const docLinkHtml = 'Like what you see? Visit the ' +\n",
              "            '<a target=\"_blank\" href=https://colab.research.google.com/notebooks/data_table.ipynb>data table notebook</a>'\n",
              "            + ' to learn more about interactive tables.';\n",
              "          element.innerHTML = '';\n",
              "          dataTable['output_type'] = 'display_data';\n",
              "          await google.colab.output.renderOutput(dataTable, element);\n",
              "          const docLink = document.createElement('div');\n",
              "          docLink.innerHTML = docLinkHtml;\n",
              "          element.appendChild(docLink);\n",
              "        }\n",
              "      </script>\n",
              "    </div>\n",
              "  </div>\n",
              "  "
            ]
          },
          "metadata": {},
          "execution_count": 17
        }
      ]
    },
    {
      "cell_type": "markdown",
      "source": [
        "## Non numeric numbers"
      ],
      "metadata": {
        "id": "9e0cdpeFx6vH"
      }
    },
    {
      "cell_type": "markdown",
      "source": [
        "### Q4"
      ],
      "metadata": {
        "id": "KlOMb2kux97P"
      }
    },
    {
      "cell_type": "code",
      "source": [
        "from sklearn.preprocessing import LabelEncoder"
      ],
      "metadata": {
        "id": "BHOB9BqskJXB"
      },
      "execution_count": 18,
      "outputs": []
    },
    {
      "cell_type": "code",
      "source": [
        "island_label_map = {'Biscoe': 0, 'Dream': 1, 'Torgersen': 2}\n",
        "sex_label_map = {'female':0,'male':1}\n",
        "species_label_map = {'Adelie':0,'Chinstrap':1,'Gentoo':2}"
      ],
      "metadata": {
        "id": "nQkAKqAMlBUh"
      },
      "execution_count": 19,
      "outputs": []
    },
    {
      "cell_type": "code",
      "source": [
        "le = LabelEncoder()"
      ],
      "metadata": {
        "id": "SwhzSZqZl6Q-"
      },
      "execution_count": 20,
      "outputs": []
    },
    {
      "cell_type": "code",
      "source": [
        "dataset['island'] = le.fit_transform(dataset['island'].map(island_label_map))\n",
        "dataset['sex'] = le.fit_transform(dataset['sex'].map(sex_label_map))\n",
        "dataset['species'] = le.fit_transform(dataset['species'].map(species_label_map))"
      ],
      "metadata": {
        "id": "tU2xN9rilX1s"
      },
      "execution_count": 21,
      "outputs": []
    },
    {
      "cell_type": "code",
      "source": [
        "dataset"
      ],
      "metadata": {
        "colab": {
          "base_uri": "https://localhost:8080/",
          "height": 0
        },
        "id": "DTTciO3zmMMg",
        "outputId": "94ddc135-177e-4f51-bdde-6af0396ca669"
      },
      "execution_count": 22,
      "outputs": [
        {
          "output_type": "execute_result",
          "data": {
            "text/plain": [
              "     species  sex bill_length_mm bill_depth_mm flipper_length_mm  body_mass_g  \\\n",
              "0          0    1           39.1          18.7             181.0       3750.0   \n",
              "1          0    0           39.5          17.4             186.0       3800.0   \n",
              "2          0    0           40.3          18.0             195.0       3250.0   \n",
              "3          0    1       43.92193      17.15117        200.915205  4201.754386   \n",
              "4          0    0           36.7          19.3             193.0       3450.0   \n",
              "..       ...  ...            ...           ...               ...          ...   \n",
              "339        1    1           55.8          19.8             207.0       4000.0   \n",
              "340        1    0           43.5          18.1             202.0       3400.0   \n",
              "341        1    1           49.6          18.2             193.0       3775.0   \n",
              "342        1    1           50.8          19.0             210.0       4100.0   \n",
              "343        1    0           50.2          18.7             198.0       3775.0   \n",
              "\n",
              "     island  \n",
              "0         2  \n",
              "1         2  \n",
              "2         2  \n",
              "3         2  \n",
              "4         2  \n",
              "..      ...  \n",
              "339       1  \n",
              "340       1  \n",
              "341       1  \n",
              "342       1  \n",
              "343       1  \n",
              "\n",
              "[344 rows x 7 columns]"
            ],
            "text/html": [
              "\n",
              "  <div id=\"df-73078726-5127-4779-a2e9-b7c9e647ff83\">\n",
              "    <div class=\"colab-df-container\">\n",
              "      <div>\n",
              "<style scoped>\n",
              "    .dataframe tbody tr th:only-of-type {\n",
              "        vertical-align: middle;\n",
              "    }\n",
              "\n",
              "    .dataframe tbody tr th {\n",
              "        vertical-align: top;\n",
              "    }\n",
              "\n",
              "    .dataframe thead th {\n",
              "        text-align: right;\n",
              "    }\n",
              "</style>\n",
              "<table border=\"1\" class=\"dataframe\">\n",
              "  <thead>\n",
              "    <tr style=\"text-align: right;\">\n",
              "      <th></th>\n",
              "      <th>species</th>\n",
              "      <th>sex</th>\n",
              "      <th>bill_length_mm</th>\n",
              "      <th>bill_depth_mm</th>\n",
              "      <th>flipper_length_mm</th>\n",
              "      <th>body_mass_g</th>\n",
              "      <th>island</th>\n",
              "    </tr>\n",
              "  </thead>\n",
              "  <tbody>\n",
              "    <tr>\n",
              "      <th>0</th>\n",
              "      <td>0</td>\n",
              "      <td>1</td>\n",
              "      <td>39.1</td>\n",
              "      <td>18.7</td>\n",
              "      <td>181.0</td>\n",
              "      <td>3750.0</td>\n",
              "      <td>2</td>\n",
              "    </tr>\n",
              "    <tr>\n",
              "      <th>1</th>\n",
              "      <td>0</td>\n",
              "      <td>0</td>\n",
              "      <td>39.5</td>\n",
              "      <td>17.4</td>\n",
              "      <td>186.0</td>\n",
              "      <td>3800.0</td>\n",
              "      <td>2</td>\n",
              "    </tr>\n",
              "    <tr>\n",
              "      <th>2</th>\n",
              "      <td>0</td>\n",
              "      <td>0</td>\n",
              "      <td>40.3</td>\n",
              "      <td>18.0</td>\n",
              "      <td>195.0</td>\n",
              "      <td>3250.0</td>\n",
              "      <td>2</td>\n",
              "    </tr>\n",
              "    <tr>\n",
              "      <th>3</th>\n",
              "      <td>0</td>\n",
              "      <td>1</td>\n",
              "      <td>43.92193</td>\n",
              "      <td>17.15117</td>\n",
              "      <td>200.915205</td>\n",
              "      <td>4201.754386</td>\n",
              "      <td>2</td>\n",
              "    </tr>\n",
              "    <tr>\n",
              "      <th>4</th>\n",
              "      <td>0</td>\n",
              "      <td>0</td>\n",
              "      <td>36.7</td>\n",
              "      <td>19.3</td>\n",
              "      <td>193.0</td>\n",
              "      <td>3450.0</td>\n",
              "      <td>2</td>\n",
              "    </tr>\n",
              "    <tr>\n",
              "      <th>...</th>\n",
              "      <td>...</td>\n",
              "      <td>...</td>\n",
              "      <td>...</td>\n",
              "      <td>...</td>\n",
              "      <td>...</td>\n",
              "      <td>...</td>\n",
              "      <td>...</td>\n",
              "    </tr>\n",
              "    <tr>\n",
              "      <th>339</th>\n",
              "      <td>1</td>\n",
              "      <td>1</td>\n",
              "      <td>55.8</td>\n",
              "      <td>19.8</td>\n",
              "      <td>207.0</td>\n",
              "      <td>4000.0</td>\n",
              "      <td>1</td>\n",
              "    </tr>\n",
              "    <tr>\n",
              "      <th>340</th>\n",
              "      <td>1</td>\n",
              "      <td>0</td>\n",
              "      <td>43.5</td>\n",
              "      <td>18.1</td>\n",
              "      <td>202.0</td>\n",
              "      <td>3400.0</td>\n",
              "      <td>1</td>\n",
              "    </tr>\n",
              "    <tr>\n",
              "      <th>341</th>\n",
              "      <td>1</td>\n",
              "      <td>1</td>\n",
              "      <td>49.6</td>\n",
              "      <td>18.2</td>\n",
              "      <td>193.0</td>\n",
              "      <td>3775.0</td>\n",
              "      <td>1</td>\n",
              "    </tr>\n",
              "    <tr>\n",
              "      <th>342</th>\n",
              "      <td>1</td>\n",
              "      <td>1</td>\n",
              "      <td>50.8</td>\n",
              "      <td>19.0</td>\n",
              "      <td>210.0</td>\n",
              "      <td>4100.0</td>\n",
              "      <td>1</td>\n",
              "    </tr>\n",
              "    <tr>\n",
              "      <th>343</th>\n",
              "      <td>1</td>\n",
              "      <td>0</td>\n",
              "      <td>50.2</td>\n",
              "      <td>18.7</td>\n",
              "      <td>198.0</td>\n",
              "      <td>3775.0</td>\n",
              "      <td>1</td>\n",
              "    </tr>\n",
              "  </tbody>\n",
              "</table>\n",
              "<p>344 rows × 7 columns</p>\n",
              "</div>\n",
              "      <button class=\"colab-df-convert\" onclick=\"convertToInteractive('df-73078726-5127-4779-a2e9-b7c9e647ff83')\"\n",
              "              title=\"Convert this dataframe to an interactive table.\"\n",
              "              style=\"display:none;\">\n",
              "        \n",
              "  <svg xmlns=\"http://www.w3.org/2000/svg\" height=\"24px\"viewBox=\"0 0 24 24\"\n",
              "       width=\"24px\">\n",
              "    <path d=\"M0 0h24v24H0V0z\" fill=\"none\"/>\n",
              "    <path d=\"M18.56 5.44l.94 2.06.94-2.06 2.06-.94-2.06-.94-.94-2.06-.94 2.06-2.06.94zm-11 1L8.5 8.5l.94-2.06 2.06-.94-2.06-.94L8.5 2.5l-.94 2.06-2.06.94zm10 10l.94 2.06.94-2.06 2.06-.94-2.06-.94-.94-2.06-.94 2.06-2.06.94z\"/><path d=\"M17.41 7.96l-1.37-1.37c-.4-.4-.92-.59-1.43-.59-.52 0-1.04.2-1.43.59L10.3 9.45l-7.72 7.72c-.78.78-.78 2.05 0 2.83L4 21.41c.39.39.9.59 1.41.59.51 0 1.02-.2 1.41-.59l7.78-7.78 2.81-2.81c.8-.78.8-2.07 0-2.86zM5.41 20L4 18.59l7.72-7.72 1.47 1.35L5.41 20z\"/>\n",
              "  </svg>\n",
              "      </button>\n",
              "      \n",
              "  <style>\n",
              "    .colab-df-container {\n",
              "      display:flex;\n",
              "      flex-wrap:wrap;\n",
              "      gap: 12px;\n",
              "    }\n",
              "\n",
              "    .colab-df-convert {\n",
              "      background-color: #E8F0FE;\n",
              "      border: none;\n",
              "      border-radius: 50%;\n",
              "      cursor: pointer;\n",
              "      display: none;\n",
              "      fill: #1967D2;\n",
              "      height: 32px;\n",
              "      padding: 0 0 0 0;\n",
              "      width: 32px;\n",
              "    }\n",
              "\n",
              "    .colab-df-convert:hover {\n",
              "      background-color: #E2EBFA;\n",
              "      box-shadow: 0px 1px 2px rgba(60, 64, 67, 0.3), 0px 1px 3px 1px rgba(60, 64, 67, 0.15);\n",
              "      fill: #174EA6;\n",
              "    }\n",
              "\n",
              "    [theme=dark] .colab-df-convert {\n",
              "      background-color: #3B4455;\n",
              "      fill: #D2E3FC;\n",
              "    }\n",
              "\n",
              "    [theme=dark] .colab-df-convert:hover {\n",
              "      background-color: #434B5C;\n",
              "      box-shadow: 0px 1px 3px 1px rgba(0, 0, 0, 0.15);\n",
              "      filter: drop-shadow(0px 1px 2px rgba(0, 0, 0, 0.3));\n",
              "      fill: #FFFFFF;\n",
              "    }\n",
              "  </style>\n",
              "\n",
              "      <script>\n",
              "        const buttonEl =\n",
              "          document.querySelector('#df-73078726-5127-4779-a2e9-b7c9e647ff83 button.colab-df-convert');\n",
              "        buttonEl.style.display =\n",
              "          google.colab.kernel.accessAllowed ? 'block' : 'none';\n",
              "\n",
              "        async function convertToInteractive(key) {\n",
              "          const element = document.querySelector('#df-73078726-5127-4779-a2e9-b7c9e647ff83');\n",
              "          const dataTable =\n",
              "            await google.colab.kernel.invokeFunction('convertToInteractive',\n",
              "                                                     [key], {});\n",
              "          if (!dataTable) return;\n",
              "\n",
              "          const docLinkHtml = 'Like what you see? Visit the ' +\n",
              "            '<a target=\"_blank\" href=https://colab.research.google.com/notebooks/data_table.ipynb>data table notebook</a>'\n",
              "            + ' to learn more about interactive tables.';\n",
              "          element.innerHTML = '';\n",
              "          dataTable['output_type'] = 'display_data';\n",
              "          await google.colab.output.renderOutput(dataTable, element);\n",
              "          const docLink = document.createElement('div');\n",
              "          docLink.innerHTML = docLinkHtml;\n",
              "          element.appendChild(docLink);\n",
              "        }\n",
              "      </script>\n",
              "    </div>\n",
              "  </div>\n",
              "  "
            ]
          },
          "metadata": {},
          "execution_count": 22
        }
      ]
    },
    {
      "cell_type": "markdown",
      "source": [
        "## Data augementation"
      ],
      "metadata": {
        "id": "g1VkY6SQpXX8"
      }
    },
    {
      "cell_type": "markdown",
      "source": [
        "### Q5\n",
        "\n"
      ],
      "metadata": {
        "id": "5u6bDWmOqFJv"
      }
    },
    {
      "cell_type": "markdown",
      "source": [
        "Data augmentation involves applying a set of transformations to existing training examples to create new, slightly different training examples. This can increase the size of the training set and improve the generalization of the model by reducing overfitting. Common data augmentation techniques include random rotation, shifting, cropping, flipping, and adding noise.\n"
      ],
      "metadata": {
        "id": "TkOuc9X5tUUv"
      }
    },
    {
      "cell_type": "markdown",
      "source": [
        "Flipping: This is a technique where an image is horizontally or vertically flipped. For example, if an image shows a person facing to the right, the image can be flipped to show that person facing to the left.\n",
        "\n",
        "Rotation: This technique involves rotating an image by a certain number of degrees. Typically, small angles are used to prevent the image from losing important information.\n",
        "\n",
        "Cropping: This technique involves cropping a portion of the image. Random crops are often used to create multiple versions of the same image.\n",
        "\n",
        "Translation: This technique involves shifting an image in a particular direction. For example, an image of a car can be shifted to the left to create a new image of the same car.\n",
        "\n",
        "Scaling: This technique involves resizing the image, either by making the image larger or smaller.\n",
        "\n",
        "Noise injection: This technique involves adding random noise to the image. This can be done by adding random pixels to the image or by randomly changing the color of pixels in the image.\n",
        "\n",
        "Color transformation: This technique involves modifying the color or brightness of the image. This can be done by shifting the hue or saturation of the image, or by adjusting the brightness or contrast.\n",
        "\n",
        "Elastic distortion: This technique involves randomly distorting the image in a non-linear way. This can be useful in adding realistic deformations to an image.\n",
        "\n",
        "\n",
        "These techniques can be used either independently or in combination with each other to create more diverse and numerous training examples for neural network models. By using these techniques, a model can gain better robustness and accuracy, as the augmented data helps the model generalize better by capturing more diverse features from the input data."
      ],
      "metadata": {
        "id": "nFWVFQzqqZIW"
      }
    },
    {
      "cell_type": "markdown",
      "source": [
        "Data augmentation is not usually applied to the test set because the test set is meant to be a representative sample of the real-world data that the model will encounter at deployment time. Test data should provide an accurate evaluation of the performance of the model, and applying data augmentation to the test set would artificially inflate the size of the test set and undermine its representativeness.\n",
        "\n",
        "Data augmentation is generally applied only to the training set to artificially increase the diversity and size of the dataset. The augmented data is introduced to the learning algorithm during the training phase to help the model generalize to new, unseen data. During testing, the model is evaluated on a separate, held-out test set that should be representative of the real-world data that the model will be applied to.\n",
        "\n",
        "It is important to maintain a clear separation between the training, validation, and test sets during training and evaluation to ensure that the model's performance is evaluated fairly and accurately. If data augmentation techniques are used during the training or validation phase, it is crucial to ensure that the same transformations or variations are not applied to the test set."
      ],
      "metadata": {
        "id": "1koQTgBbqcAk"
      }
    },
    {
      "cell_type": "markdown",
      "source": [
        "### Q6"
      ],
      "metadata": {
        "id": "GuRrQqanrass"
      }
    },
    {
      "cell_type": "markdown",
      "source": [
        "In deep learning, upsampling refers to the technique of increasing the resolution or size of an image or feature map. Downsampling, on the other hand, reduces the resolution or size of an image or feature map.\n",
        "\n",
        "Upsampling can be achieved by various methods such as interpolation, transposed convolution, or nearest neighbor sampling. For example, Upsampling can increase the resolution of a low-resolution image to match the resolution of a high-resolution image in order to help the neural network better capture the fine details of the image.\n",
        "\n",
        "Downsampling, on the other hand, can be done by max-pooling or downsampling convolutional layers. It decreases the size of input tensor or image, and thereby reducing the computational overhead of the team while accepting more generalized features.\n",
        "\n",
        "One way to use this mixture is for semantic segmentation tasks where an image is divided into multiple segments, and each segment is assigned a particular class label. Since the number of pixels in each segment can vary widely, the dataset may suffer from class imbalance. In this case, we can use downsampling to balance the dataset and then use upsampling to restore the original size of the image.\n",
        "\n",
        "Another approach is to use upsampling after each convolutional layer to increase the resolution of the output feature map. This can help preserve more spatial information and improve the accuracy of the model. However, this can result in a large number of parameters and high computational costs. In this case, we can use downsampling to reduce the number of parameters without compromising the performance."
      ],
      "metadata": {
        "id": "uGPd62cxrcWV"
      }
    },
    {
      "cell_type": "markdown",
      "source": [
        "In data augmentation, upsampling and downsampling are used to increase or decrease the size of the input data.\n",
        "\n",
        "Upsampling involves increasing the size of the input data, usually by adding empty values or duplicating existing values. This can help increase the amount of data available for training and improve the accuracy of the model. Upsampling is particularly useful for datasets with class imbalance, where some classes have very few samples.\n",
        "\n",
        "Downsampling, on the other hand, involves decreasing the size of the input data by randomly selecting a subset of the data. This can help reduce the computational cost of training the model and also prevent overfitting by reducing the complexity of the input data.\n",
        "\n",
        "Both upsampling and downsampling can be used in a mixture to balance the dataset and create a more diverse set of training examples. This helps to produce a robust model that can generalize well to new data."
      ],
      "metadata": {
        "id": "vz_AqXeTrrY-"
      }
    },
    {
      "cell_type": "markdown",
      "source": [
        "### Q7"
      ],
      "metadata": {
        "id": "XDw3vidDsrgi"
      }
    },
    {
      "cell_type": "markdown",
      "source": [
        "SMOTETomek and SMOTEENN are two popular techniques in machine learning for addressing imbalanced datasets. They combine the SMOTE algorithm, which upsamples the minority class by creating synthetic examples, with either Tomek links or ENN (Edited Nearest Neighbors) to remove redundant and noisy examples.\n",
        "\n",
        "SMOTETomek works by first applying SMOTE to oversample the minority class and then using Tomek links to remove the resulting synthetic examples that are densely surrounded by the majority class. At the same time, Tomek links also remove some of the noisy examples from both the minority and majority class, which can help improve the classification performance.\n",
        "\n",
        "SMOTEENN works in a similar way to SMOTETomek but uses ENN instead of Tomek links. ENN first removes any misclassified examples from the training set and then uses SMOTE to oversample the minority class. The resulting synthetic examples are then placed into ENN again to remove any remaining noisy or redundant examples.\n",
        "\n",
        "Both SMOTETomek and SMOTEENN can be effective in balancing imbalanced datasets and improving classification performance. However, in some cases, they may also remove important examples from the dataset, and it's important to compare their performance with other methods like undersampling and oversampling without a cleaning step to find the best approach for the specific problem at hand."
      ],
      "metadata": {
        "id": "CBnyn96qstMQ"
      }
    },
    {
      "cell_type": "markdown",
      "source": [
        "Therefore, the intersection between SMOTEENN and SMOTETomek is that they both use the SMOTE algorithm for oversampling. However, they use different undersampling techniques, which may result in different outcomes in terms of the subsets of data that are retained or removed. Nonetheless, both methods aim to balance the class distribution while minimizing information loss and overfitting while improving the classification performance."
      ],
      "metadata": {
        "id": "7wK3uALitJaw"
      }
    },
    {
      "cell_type": "markdown",
      "source": [
        "### Q8"
      ],
      "metadata": {
        "id": "vzxTVeEttVo8"
      }
    },
    {
      "cell_type": "code",
      "source": [
        "sex_dataset = dataset"
      ],
      "metadata": {
        "id": "HqYEXTmxuj0p"
      },
      "execution_count": 23,
      "outputs": []
    },
    {
      "cell_type": "code",
      "source": [
        "sex_dataset"
      ],
      "metadata": {
        "colab": {
          "base_uri": "https://localhost:8080/",
          "height": 0
        },
        "id": "9diKmoOhvAkR",
        "outputId": "5046d7e1-dcfb-4045-cd17-ef8e1d368b7e"
      },
      "execution_count": 24,
      "outputs": [
        {
          "output_type": "execute_result",
          "data": {
            "text/plain": [
              "     species  sex bill_length_mm bill_depth_mm flipper_length_mm  body_mass_g  \\\n",
              "0          0    1           39.1          18.7             181.0       3750.0   \n",
              "1          0    0           39.5          17.4             186.0       3800.0   \n",
              "2          0    0           40.3          18.0             195.0       3250.0   \n",
              "3          0    1       43.92193      17.15117        200.915205  4201.754386   \n",
              "4          0    0           36.7          19.3             193.0       3450.0   \n",
              "..       ...  ...            ...           ...               ...          ...   \n",
              "339        1    1           55.8          19.8             207.0       4000.0   \n",
              "340        1    0           43.5          18.1             202.0       3400.0   \n",
              "341        1    1           49.6          18.2             193.0       3775.0   \n",
              "342        1    1           50.8          19.0             210.0       4100.0   \n",
              "343        1    0           50.2          18.7             198.0       3775.0   \n",
              "\n",
              "     island  \n",
              "0         2  \n",
              "1         2  \n",
              "2         2  \n",
              "3         2  \n",
              "4         2  \n",
              "..      ...  \n",
              "339       1  \n",
              "340       1  \n",
              "341       1  \n",
              "342       1  \n",
              "343       1  \n",
              "\n",
              "[344 rows x 7 columns]"
            ],
            "text/html": [
              "\n",
              "  <div id=\"df-7a6ab174-ca81-45e4-aa64-72b164e59798\">\n",
              "    <div class=\"colab-df-container\">\n",
              "      <div>\n",
              "<style scoped>\n",
              "    .dataframe tbody tr th:only-of-type {\n",
              "        vertical-align: middle;\n",
              "    }\n",
              "\n",
              "    .dataframe tbody tr th {\n",
              "        vertical-align: top;\n",
              "    }\n",
              "\n",
              "    .dataframe thead th {\n",
              "        text-align: right;\n",
              "    }\n",
              "</style>\n",
              "<table border=\"1\" class=\"dataframe\">\n",
              "  <thead>\n",
              "    <tr style=\"text-align: right;\">\n",
              "      <th></th>\n",
              "      <th>species</th>\n",
              "      <th>sex</th>\n",
              "      <th>bill_length_mm</th>\n",
              "      <th>bill_depth_mm</th>\n",
              "      <th>flipper_length_mm</th>\n",
              "      <th>body_mass_g</th>\n",
              "      <th>island</th>\n",
              "    </tr>\n",
              "  </thead>\n",
              "  <tbody>\n",
              "    <tr>\n",
              "      <th>0</th>\n",
              "      <td>0</td>\n",
              "      <td>1</td>\n",
              "      <td>39.1</td>\n",
              "      <td>18.7</td>\n",
              "      <td>181.0</td>\n",
              "      <td>3750.0</td>\n",
              "      <td>2</td>\n",
              "    </tr>\n",
              "    <tr>\n",
              "      <th>1</th>\n",
              "      <td>0</td>\n",
              "      <td>0</td>\n",
              "      <td>39.5</td>\n",
              "      <td>17.4</td>\n",
              "      <td>186.0</td>\n",
              "      <td>3800.0</td>\n",
              "      <td>2</td>\n",
              "    </tr>\n",
              "    <tr>\n",
              "      <th>2</th>\n",
              "      <td>0</td>\n",
              "      <td>0</td>\n",
              "      <td>40.3</td>\n",
              "      <td>18.0</td>\n",
              "      <td>195.0</td>\n",
              "      <td>3250.0</td>\n",
              "      <td>2</td>\n",
              "    </tr>\n",
              "    <tr>\n",
              "      <th>3</th>\n",
              "      <td>0</td>\n",
              "      <td>1</td>\n",
              "      <td>43.92193</td>\n",
              "      <td>17.15117</td>\n",
              "      <td>200.915205</td>\n",
              "      <td>4201.754386</td>\n",
              "      <td>2</td>\n",
              "    </tr>\n",
              "    <tr>\n",
              "      <th>4</th>\n",
              "      <td>0</td>\n",
              "      <td>0</td>\n",
              "      <td>36.7</td>\n",
              "      <td>19.3</td>\n",
              "      <td>193.0</td>\n",
              "      <td>3450.0</td>\n",
              "      <td>2</td>\n",
              "    </tr>\n",
              "    <tr>\n",
              "      <th>...</th>\n",
              "      <td>...</td>\n",
              "      <td>...</td>\n",
              "      <td>...</td>\n",
              "      <td>...</td>\n",
              "      <td>...</td>\n",
              "      <td>...</td>\n",
              "      <td>...</td>\n",
              "    </tr>\n",
              "    <tr>\n",
              "      <th>339</th>\n",
              "      <td>1</td>\n",
              "      <td>1</td>\n",
              "      <td>55.8</td>\n",
              "      <td>19.8</td>\n",
              "      <td>207.0</td>\n",
              "      <td>4000.0</td>\n",
              "      <td>1</td>\n",
              "    </tr>\n",
              "    <tr>\n",
              "      <th>340</th>\n",
              "      <td>1</td>\n",
              "      <td>0</td>\n",
              "      <td>43.5</td>\n",
              "      <td>18.1</td>\n",
              "      <td>202.0</td>\n",
              "      <td>3400.0</td>\n",
              "      <td>1</td>\n",
              "    </tr>\n",
              "    <tr>\n",
              "      <th>341</th>\n",
              "      <td>1</td>\n",
              "      <td>1</td>\n",
              "      <td>49.6</td>\n",
              "      <td>18.2</td>\n",
              "      <td>193.0</td>\n",
              "      <td>3775.0</td>\n",
              "      <td>1</td>\n",
              "    </tr>\n",
              "    <tr>\n",
              "      <th>342</th>\n",
              "      <td>1</td>\n",
              "      <td>1</td>\n",
              "      <td>50.8</td>\n",
              "      <td>19.0</td>\n",
              "      <td>210.0</td>\n",
              "      <td>4100.0</td>\n",
              "      <td>1</td>\n",
              "    </tr>\n",
              "    <tr>\n",
              "      <th>343</th>\n",
              "      <td>1</td>\n",
              "      <td>0</td>\n",
              "      <td>50.2</td>\n",
              "      <td>18.7</td>\n",
              "      <td>198.0</td>\n",
              "      <td>3775.0</td>\n",
              "      <td>1</td>\n",
              "    </tr>\n",
              "  </tbody>\n",
              "</table>\n",
              "<p>344 rows × 7 columns</p>\n",
              "</div>\n",
              "      <button class=\"colab-df-convert\" onclick=\"convertToInteractive('df-7a6ab174-ca81-45e4-aa64-72b164e59798')\"\n",
              "              title=\"Convert this dataframe to an interactive table.\"\n",
              "              style=\"display:none;\">\n",
              "        \n",
              "  <svg xmlns=\"http://www.w3.org/2000/svg\" height=\"24px\"viewBox=\"0 0 24 24\"\n",
              "       width=\"24px\">\n",
              "    <path d=\"M0 0h24v24H0V0z\" fill=\"none\"/>\n",
              "    <path d=\"M18.56 5.44l.94 2.06.94-2.06 2.06-.94-2.06-.94-.94-2.06-.94 2.06-2.06.94zm-11 1L8.5 8.5l.94-2.06 2.06-.94-2.06-.94L8.5 2.5l-.94 2.06-2.06.94zm10 10l.94 2.06.94-2.06 2.06-.94-2.06-.94-.94-2.06-.94 2.06-2.06.94z\"/><path d=\"M17.41 7.96l-1.37-1.37c-.4-.4-.92-.59-1.43-.59-.52 0-1.04.2-1.43.59L10.3 9.45l-7.72 7.72c-.78.78-.78 2.05 0 2.83L4 21.41c.39.39.9.59 1.41.59.51 0 1.02-.2 1.41-.59l7.78-7.78 2.81-2.81c.8-.78.8-2.07 0-2.86zM5.41 20L4 18.59l7.72-7.72 1.47 1.35L5.41 20z\"/>\n",
              "  </svg>\n",
              "      </button>\n",
              "      \n",
              "  <style>\n",
              "    .colab-df-container {\n",
              "      display:flex;\n",
              "      flex-wrap:wrap;\n",
              "      gap: 12px;\n",
              "    }\n",
              "\n",
              "    .colab-df-convert {\n",
              "      background-color: #E8F0FE;\n",
              "      border: none;\n",
              "      border-radius: 50%;\n",
              "      cursor: pointer;\n",
              "      display: none;\n",
              "      fill: #1967D2;\n",
              "      height: 32px;\n",
              "      padding: 0 0 0 0;\n",
              "      width: 32px;\n",
              "    }\n",
              "\n",
              "    .colab-df-convert:hover {\n",
              "      background-color: #E2EBFA;\n",
              "      box-shadow: 0px 1px 2px rgba(60, 64, 67, 0.3), 0px 1px 3px 1px rgba(60, 64, 67, 0.15);\n",
              "      fill: #174EA6;\n",
              "    }\n",
              "\n",
              "    [theme=dark] .colab-df-convert {\n",
              "      background-color: #3B4455;\n",
              "      fill: #D2E3FC;\n",
              "    }\n",
              "\n",
              "    [theme=dark] .colab-df-convert:hover {\n",
              "      background-color: #434B5C;\n",
              "      box-shadow: 0px 1px 3px 1px rgba(0, 0, 0, 0.15);\n",
              "      filter: drop-shadow(0px 1px 2px rgba(0, 0, 0, 0.3));\n",
              "      fill: #FFFFFF;\n",
              "    }\n",
              "  </style>\n",
              "\n",
              "      <script>\n",
              "        const buttonEl =\n",
              "          document.querySelector('#df-7a6ab174-ca81-45e4-aa64-72b164e59798 button.colab-df-convert');\n",
              "        buttonEl.style.display =\n",
              "          google.colab.kernel.accessAllowed ? 'block' : 'none';\n",
              "\n",
              "        async function convertToInteractive(key) {\n",
              "          const element = document.querySelector('#df-7a6ab174-ca81-45e4-aa64-72b164e59798');\n",
              "          const dataTable =\n",
              "            await google.colab.kernel.invokeFunction('convertToInteractive',\n",
              "                                                     [key], {});\n",
              "          if (!dataTable) return;\n",
              "\n",
              "          const docLinkHtml = 'Like what you see? Visit the ' +\n",
              "            '<a target=\"_blank\" href=https://colab.research.google.com/notebooks/data_table.ipynb>data table notebook</a>'\n",
              "            + ' to learn more about interactive tables.';\n",
              "          element.innerHTML = '';\n",
              "          dataTable['output_type'] = 'display_data';\n",
              "          await google.colab.output.renderOutput(dataTable, element);\n",
              "          const docLink = document.createElement('div');\n",
              "          docLink.innerHTML = docLinkHtml;\n",
              "          element.appendChild(docLink);\n",
              "        }\n",
              "      </script>\n",
              "    </div>\n",
              "  </div>\n",
              "  "
            ]
          },
          "metadata": {},
          "execution_count": 24
        }
      ]
    },
    {
      "cell_type": "code",
      "source": [
        "# there almost balanced\n",
        "sex_dataset['sex'].value_counts()"
      ],
      "metadata": {
        "colab": {
          "base_uri": "https://localhost:8080/"
        },
        "id": "WvRroHyUujtK",
        "outputId": "92e51641-54c9-4a34-e71e-56c662c6e399"
      },
      "execution_count": 25,
      "outputs": [
        {
          "output_type": "execute_result",
          "data": {
            "text/plain": [
              "1    179\n",
              "0    165\n",
              "Name: sex, dtype: int64"
            ]
          },
          "metadata": {},
          "execution_count": 25
        }
      ]
    },
    {
      "cell_type": "code",
      "source": [
        "# we remove 90% of 1 values randomly\n",
        "# Set specific value to remove\n",
        "value_to_remove = 1\n",
        "# Get indices of rows that contain the value to remove\n",
        "rows_to_remove = sex_dataset.index[sex_dataset['sex'] == value_to_remove]\n",
        "# Calculate number of rows to remove\n",
        "num_rows_to_remove = int(np.ceil(len(rows_to_remove) * 0.9))\n",
        "# Drop 90% of rows that contain the value to remove\n",
        "rows = np.random.choice(rows_to_remove, size=num_rows_to_remove, replace=False)\n",
        "df_filtered = sex_dataset.drop(rows)"
      ],
      "metadata": {
        "id": "y0RGtPp8vLGE"
      },
      "execution_count": 26,
      "outputs": []
    },
    {
      "cell_type": "code",
      "source": [
        "df_filtered['sex'].value_counts()"
      ],
      "metadata": {
        "colab": {
          "base_uri": "https://localhost:8080/"
        },
        "id": "jiDIWuGyv90J",
        "outputId": "504f2579-379a-4ed9-8509-a375823a227e"
      },
      "execution_count": 27,
      "outputs": [
        {
          "output_type": "execute_result",
          "data": {
            "text/plain": [
              "0    165\n",
              "1     17\n",
              "Name: sex, dtype: int64"
            ]
          },
          "metadata": {},
          "execution_count": 27
        }
      ]
    },
    {
      "cell_type": "code",
      "source": [
        "from imblearn.combine import SMOTEENN\n",
        "import pandas as pd"
      ],
      "metadata": {
        "id": "ALWmWtHWxnMV"
      },
      "execution_count": 28,
      "outputs": []
    },
    {
      "cell_type": "code",
      "source": [
        "# Separate the features X and target y\n",
        "X = df_filtered.drop('sex', axis=1)\n",
        "y = df_filtered['sex']\n",
        "\n",
        "# Apply SMOTEENN to increase the number of minority class samples\n",
        "smote_enn = SMOTEENN(random_state=0)\n",
        "X_resampled, y_resampled = smote_enn.fit_resample(X, y)\n",
        "\n",
        "# Create a new DataFrame from the resampled data\n",
        "df_resampled = pd.concat([X_resampled, y_resampled], axis=1)\n",
        "\n",
        "# Print the count of each class in the resampled DataFrame\n",
        "print(df_resampled['sex'].value_counts())"
      ],
      "metadata": {
        "colab": {
          "base_uri": "https://localhost:8080/"
        },
        "id": "2JyynMnaws7c",
        "outputId": "f8f48071-4821-4e69-f927-f6ec85a65eb0"
      },
      "execution_count": 29,
      "outputs": [
        {
          "output_type": "stream",
          "name": "stdout",
          "text": [
            "0    121\n",
            "1    106\n",
            "Name: sex, dtype: int64\n"
          ]
        }
      ]
    },
    {
      "cell_type": "code",
      "source": [
        "from imblearn.combine import SMOTETomek\n",
        "import pandas as pd"
      ],
      "metadata": {
        "id": "5rQ40AH70p7S"
      },
      "execution_count": 30,
      "outputs": []
    },
    {
      "cell_type": "code",
      "source": [
        "# Separate the target variable and the features from the DataFrame\n",
        "y = df_filtered['sex']\n",
        "X = df_filtered.drop('sex', axis=1)\n",
        "\n",
        "# Upsample using SMOTETomek\n",
        "smote_tomek = SMOTETomek(random_state=0)\n",
        "X_resampled, y_resampled = smote_tomek.fit_resample(X, y)\n",
        "\n",
        "# Concatenate the resampled data to create a new DataFrame\n",
        "df_resampled = pd.concat([X_resampled, y_resampled], axis=1)\n",
        "\n",
        "# Print the value counts for the target column\n",
        "print(df_resampled['sex'].value_counts())"
      ],
      "metadata": {
        "colab": {
          "base_uri": "https://localhost:8080/"
        },
        "id": "ynUjsRJc0az3",
        "outputId": "c07f621a-95cb-4649-91a7-9b44828e6d19"
      },
      "execution_count": 31,
      "outputs": [
        {
          "output_type": "stream",
          "name": "stdout",
          "text": [
            "0    153\n",
            "1    153\n",
            "Name: sex, dtype: int64\n"
          ]
        }
      ]
    },
    {
      "cell_type": "markdown",
      "source": [
        "## Normalization"
      ],
      "metadata": {
        "id": "WBGJZbJ61dGd"
      }
    },
    {
      "cell_type": "markdown",
      "source": [
        "### Q9"
      ],
      "metadata": {
        "id": "rCqSganN1fXu"
      }
    },
    {
      "cell_type": "code",
      "source": [
        "from sklearn.preprocessing import StandardScaler"
      ],
      "metadata": {
        "id": "UtoEfxLJ3dxv"
      },
      "execution_count": 32,
      "outputs": []
    },
    {
      "cell_type": "code",
      "source": [
        "dataset = dataset.drop('species',axis=1)"
      ],
      "metadata": {
        "id": "V9BEPKBOAaG-"
      },
      "execution_count": 33,
      "outputs": []
    },
    {
      "cell_type": "code",
      "source": [
        "normalized_dataset = dataset.copy()"
      ],
      "metadata": {
        "id": "JfKB1ksOAOd8"
      },
      "execution_count": 34,
      "outputs": []
    },
    {
      "cell_type": "code",
      "source": [
        "def normalization(dataset,input_column):\n",
        "\n",
        "  print('Original Mean:', dataset[input_column].mean())\n",
        "  print('Original Variance:', dataset[input_column].var())\n",
        "\n",
        "  scaler = StandardScaler()\n",
        "\n",
        "  dataset[input_column] = scaler.fit_transform(dataset[[input_column]])\n",
        "\n",
        "\n",
        "  print('Normalized Mean:', round(dataset[input_column].mean(),2))\n",
        "  print('Normalized Variance:', round(dataset[input_column].var(),2))"
      ],
      "metadata": {
        "id": "Vm0n2wX13h8F"
      },
      "execution_count": 35,
      "outputs": []
    },
    {
      "cell_type": "code",
      "source": [
        "normalization(normalized_dataset,'sex')"
      ],
      "metadata": {
        "colab": {
          "base_uri": "https://localhost:8080/"
        },
        "id": "3SPrFv6A4RFt",
        "outputId": "ca14f68f-912b-4ad5-bd8a-99f4dd38a96d"
      },
      "execution_count": 36,
      "outputs": [
        {
          "output_type": "stream",
          "name": "stdout",
          "text": [
            "Original Mean: 0.5203488372093024\n",
            "Original Variance: 0.25031358058173436\n",
            "Normalized Mean: -0.0\n",
            "Normalized Variance: 1.0\n"
          ]
        }
      ]
    },
    {
      "cell_type": "code",
      "source": [
        "normalization(normalized_dataset,'island')"
      ],
      "metadata": {
        "colab": {
          "base_uri": "https://localhost:8080/"
        },
        "id": "d_nVGaL45DTA",
        "outputId": "388709f2-0f3e-4f8e-bb23-46d49c5ea7a8"
      },
      "execution_count": 37,
      "outputs": [
        {
          "output_type": "stream",
          "name": "stdout",
          "text": [
            "Original Mean: 0.6627906976744186\n",
            "Original Variance: 0.527357786968608\n",
            "Normalized Mean: 0.0\n",
            "Normalized Variance: 1.0\n"
          ]
        }
      ]
    },
    {
      "cell_type": "code",
      "source": [
        "normalization(normalized_dataset,'bill_length_mm')"
      ],
      "metadata": {
        "colab": {
          "base_uri": "https://localhost:8080/"
        },
        "id": "eYPlxZfg6D-y",
        "outputId": "4806c46b-f51a-4b15-a583-7cced1e410e2"
      },
      "execution_count": 38,
      "outputs": [
        {
          "output_type": "stream",
          "name": "stdout",
          "text": [
            "Original Mean: 43.921929824561424\n",
            "Original Variance: 29.633252263311338\n",
            "Normalized Mean: -0.0\n",
            "Normalized Variance: 1.0\n"
          ]
        }
      ]
    },
    {
      "cell_type": "code",
      "source": [
        "normalization(normalized_dataset,'bill_depth_mm')"
      ],
      "metadata": {
        "colab": {
          "base_uri": "https://localhost:8080/"
        },
        "id": "AVbG-njk6IZn",
        "outputId": "38414b40-f299-45fc-ef99-934d6af7e794"
      },
      "execution_count": 39,
      "outputs": [
        {
          "output_type": "stream",
          "name": "stdout",
          "text": [
            "Original Mean: 17.15116959064328\n",
            "Original Variance: 3.8770686068913784\n",
            "Normalized Mean: 0.0\n",
            "Normalized Variance: 1.0\n"
          ]
        }
      ]
    },
    {
      "cell_type": "code",
      "source": [
        "normalization(normalized_dataset,'flipper_length_mm')"
      ],
      "metadata": {
        "colab": {
          "base_uri": "https://localhost:8080/"
        },
        "id": "m5iEdS_y6NWL",
        "outputId": "f777d8f5-3ab1-4214-b0a3-9cdcffbebcb9"
      },
      "execution_count": 40,
      "outputs": [
        {
          "output_type": "stream",
          "name": "stdout",
          "text": [
            "Original Mean: 200.91520467836258\n",
            "Original Variance: 196.5788365471502\n",
            "Normalized Mean: -0.0\n",
            "Normalized Variance: 1.0\n"
          ]
        }
      ]
    },
    {
      "cell_type": "code",
      "source": [
        "normalization(normalized_dataset,'body_mass_g')"
      ],
      "metadata": {
        "colab": {
          "base_uri": "https://localhost:8080/"
        },
        "id": "D8x2JWW66eMP",
        "outputId": "205f82d1-13f0-4195-a8b8-e84866e0d282"
      },
      "execution_count": 41,
      "outputs": [
        {
          "output_type": "stream",
          "name": "stdout",
          "text": [
            "Original Mean: 4201.754385964912\n",
            "Original Variance: 639381.0418904403\n",
            "Normalized Mean: 0.0\n",
            "Normalized Variance: 1.0\n"
          ]
        }
      ]
    },
    {
      "cell_type": "markdown",
      "source": [
        "## Principle component analysis"
      ],
      "metadata": {
        "id": "ATiqsaV36p7w"
      }
    },
    {
      "cell_type": "markdown",
      "source": [
        "### Q10"
      ],
      "metadata": {
        "id": "KB0dASir7yxt"
      }
    },
    {
      "cell_type": "code",
      "source": [
        "normalized_dataset"
      ],
      "metadata": {
        "colab": {
          "base_uri": "https://localhost:8080/",
          "height": 424
        },
        "id": "Def33U9l7kWt",
        "outputId": "d352427e-de6f-44a1-9e81-caf39031eb37"
      },
      "execution_count": 42,
      "outputs": [
        {
          "output_type": "execute_result",
          "data": {
            "text/plain": [
              "          sex  bill_length_mm  bill_depth_mm  flipper_length_mm  body_mass_g  \\\n",
              "0    0.960098   -8.870812e-01       0.787743          -1.422488    -0.565789   \n",
              "1   -1.041561   -8.134940e-01       0.126556          -1.065352    -0.503168   \n",
              "2   -1.041561   -6.663195e-01       0.431719          -0.422507    -1.192003   \n",
              "3    0.960098   -1.307172e-15       0.000000           0.000000     0.000000   \n",
              "4   -1.041561   -1.328605e+00       1.092905          -0.565361    -0.941517   \n",
              "..        ...             ...            ...                ...          ...   \n",
              "339  0.960098    2.185186e+00       1.347208           0.434620    -0.252683   \n",
              "340 -1.041561   -7.762162e-02       0.482580           0.077484    -1.004139   \n",
              "341  0.960098    1.044584e+00       0.533440          -0.565361    -0.534479   \n",
              "342  0.960098    1.265345e+00       0.940324           0.648902    -0.127440   \n",
              "343 -1.041561    1.154965e+00       0.787743          -0.208225    -0.534479   \n",
              "\n",
              "       island  \n",
              "0    1.844076  \n",
              "1    1.844076  \n",
              "2    1.844076  \n",
              "3    1.844076  \n",
              "4    1.844076  \n",
              "..        ...  \n",
              "339  0.465028  \n",
              "340  0.465028  \n",
              "341  0.465028  \n",
              "342  0.465028  \n",
              "343  0.465028  \n",
              "\n",
              "[344 rows x 6 columns]"
            ],
            "text/html": [
              "\n",
              "  <div id=\"df-04e9939a-9f9e-4295-aa13-6c6c7096fae1\">\n",
              "    <div class=\"colab-df-container\">\n",
              "      <div>\n",
              "<style scoped>\n",
              "    .dataframe tbody tr th:only-of-type {\n",
              "        vertical-align: middle;\n",
              "    }\n",
              "\n",
              "    .dataframe tbody tr th {\n",
              "        vertical-align: top;\n",
              "    }\n",
              "\n",
              "    .dataframe thead th {\n",
              "        text-align: right;\n",
              "    }\n",
              "</style>\n",
              "<table border=\"1\" class=\"dataframe\">\n",
              "  <thead>\n",
              "    <tr style=\"text-align: right;\">\n",
              "      <th></th>\n",
              "      <th>sex</th>\n",
              "      <th>bill_length_mm</th>\n",
              "      <th>bill_depth_mm</th>\n",
              "      <th>flipper_length_mm</th>\n",
              "      <th>body_mass_g</th>\n",
              "      <th>island</th>\n",
              "    </tr>\n",
              "  </thead>\n",
              "  <tbody>\n",
              "    <tr>\n",
              "      <th>0</th>\n",
              "      <td>0.960098</td>\n",
              "      <td>-8.870812e-01</td>\n",
              "      <td>0.787743</td>\n",
              "      <td>-1.422488</td>\n",
              "      <td>-0.565789</td>\n",
              "      <td>1.844076</td>\n",
              "    </tr>\n",
              "    <tr>\n",
              "      <th>1</th>\n",
              "      <td>-1.041561</td>\n",
              "      <td>-8.134940e-01</td>\n",
              "      <td>0.126556</td>\n",
              "      <td>-1.065352</td>\n",
              "      <td>-0.503168</td>\n",
              "      <td>1.844076</td>\n",
              "    </tr>\n",
              "    <tr>\n",
              "      <th>2</th>\n",
              "      <td>-1.041561</td>\n",
              "      <td>-6.663195e-01</td>\n",
              "      <td>0.431719</td>\n",
              "      <td>-0.422507</td>\n",
              "      <td>-1.192003</td>\n",
              "      <td>1.844076</td>\n",
              "    </tr>\n",
              "    <tr>\n",
              "      <th>3</th>\n",
              "      <td>0.960098</td>\n",
              "      <td>-1.307172e-15</td>\n",
              "      <td>0.000000</td>\n",
              "      <td>0.000000</td>\n",
              "      <td>0.000000</td>\n",
              "      <td>1.844076</td>\n",
              "    </tr>\n",
              "    <tr>\n",
              "      <th>4</th>\n",
              "      <td>-1.041561</td>\n",
              "      <td>-1.328605e+00</td>\n",
              "      <td>1.092905</td>\n",
              "      <td>-0.565361</td>\n",
              "      <td>-0.941517</td>\n",
              "      <td>1.844076</td>\n",
              "    </tr>\n",
              "    <tr>\n",
              "      <th>...</th>\n",
              "      <td>...</td>\n",
              "      <td>...</td>\n",
              "      <td>...</td>\n",
              "      <td>...</td>\n",
              "      <td>...</td>\n",
              "      <td>...</td>\n",
              "    </tr>\n",
              "    <tr>\n",
              "      <th>339</th>\n",
              "      <td>0.960098</td>\n",
              "      <td>2.185186e+00</td>\n",
              "      <td>1.347208</td>\n",
              "      <td>0.434620</td>\n",
              "      <td>-0.252683</td>\n",
              "      <td>0.465028</td>\n",
              "    </tr>\n",
              "    <tr>\n",
              "      <th>340</th>\n",
              "      <td>-1.041561</td>\n",
              "      <td>-7.762162e-02</td>\n",
              "      <td>0.482580</td>\n",
              "      <td>0.077484</td>\n",
              "      <td>-1.004139</td>\n",
              "      <td>0.465028</td>\n",
              "    </tr>\n",
              "    <tr>\n",
              "      <th>341</th>\n",
              "      <td>0.960098</td>\n",
              "      <td>1.044584e+00</td>\n",
              "      <td>0.533440</td>\n",
              "      <td>-0.565361</td>\n",
              "      <td>-0.534479</td>\n",
              "      <td>0.465028</td>\n",
              "    </tr>\n",
              "    <tr>\n",
              "      <th>342</th>\n",
              "      <td>0.960098</td>\n",
              "      <td>1.265345e+00</td>\n",
              "      <td>0.940324</td>\n",
              "      <td>0.648902</td>\n",
              "      <td>-0.127440</td>\n",
              "      <td>0.465028</td>\n",
              "    </tr>\n",
              "    <tr>\n",
              "      <th>343</th>\n",
              "      <td>-1.041561</td>\n",
              "      <td>1.154965e+00</td>\n",
              "      <td>0.787743</td>\n",
              "      <td>-0.208225</td>\n",
              "      <td>-0.534479</td>\n",
              "      <td>0.465028</td>\n",
              "    </tr>\n",
              "  </tbody>\n",
              "</table>\n",
              "<p>344 rows × 6 columns</p>\n",
              "</div>\n",
              "      <button class=\"colab-df-convert\" onclick=\"convertToInteractive('df-04e9939a-9f9e-4295-aa13-6c6c7096fae1')\"\n",
              "              title=\"Convert this dataframe to an interactive table.\"\n",
              "              style=\"display:none;\">\n",
              "        \n",
              "  <svg xmlns=\"http://www.w3.org/2000/svg\" height=\"24px\"viewBox=\"0 0 24 24\"\n",
              "       width=\"24px\">\n",
              "    <path d=\"M0 0h24v24H0V0z\" fill=\"none\"/>\n",
              "    <path d=\"M18.56 5.44l.94 2.06.94-2.06 2.06-.94-2.06-.94-.94-2.06-.94 2.06-2.06.94zm-11 1L8.5 8.5l.94-2.06 2.06-.94-2.06-.94L8.5 2.5l-.94 2.06-2.06.94zm10 10l.94 2.06.94-2.06 2.06-.94-2.06-.94-.94-2.06-.94 2.06-2.06.94z\"/><path d=\"M17.41 7.96l-1.37-1.37c-.4-.4-.92-.59-1.43-.59-.52 0-1.04.2-1.43.59L10.3 9.45l-7.72 7.72c-.78.78-.78 2.05 0 2.83L4 21.41c.39.39.9.59 1.41.59.51 0 1.02-.2 1.41-.59l7.78-7.78 2.81-2.81c.8-.78.8-2.07 0-2.86zM5.41 20L4 18.59l7.72-7.72 1.47 1.35L5.41 20z\"/>\n",
              "  </svg>\n",
              "      </button>\n",
              "      \n",
              "  <style>\n",
              "    .colab-df-container {\n",
              "      display:flex;\n",
              "      flex-wrap:wrap;\n",
              "      gap: 12px;\n",
              "    }\n",
              "\n",
              "    .colab-df-convert {\n",
              "      background-color: #E8F0FE;\n",
              "      border: none;\n",
              "      border-radius: 50%;\n",
              "      cursor: pointer;\n",
              "      display: none;\n",
              "      fill: #1967D2;\n",
              "      height: 32px;\n",
              "      padding: 0 0 0 0;\n",
              "      width: 32px;\n",
              "    }\n",
              "\n",
              "    .colab-df-convert:hover {\n",
              "      background-color: #E2EBFA;\n",
              "      box-shadow: 0px 1px 2px rgba(60, 64, 67, 0.3), 0px 1px 3px 1px rgba(60, 64, 67, 0.15);\n",
              "      fill: #174EA6;\n",
              "    }\n",
              "\n",
              "    [theme=dark] .colab-df-convert {\n",
              "      background-color: #3B4455;\n",
              "      fill: #D2E3FC;\n",
              "    }\n",
              "\n",
              "    [theme=dark] .colab-df-convert:hover {\n",
              "      background-color: #434B5C;\n",
              "      box-shadow: 0px 1px 3px 1px rgba(0, 0, 0, 0.15);\n",
              "      filter: drop-shadow(0px 1px 2px rgba(0, 0, 0, 0.3));\n",
              "      fill: #FFFFFF;\n",
              "    }\n",
              "  </style>\n",
              "\n",
              "      <script>\n",
              "        const buttonEl =\n",
              "          document.querySelector('#df-04e9939a-9f9e-4295-aa13-6c6c7096fae1 button.colab-df-convert');\n",
              "        buttonEl.style.display =\n",
              "          google.colab.kernel.accessAllowed ? 'block' : 'none';\n",
              "\n",
              "        async function convertToInteractive(key) {\n",
              "          const element = document.querySelector('#df-04e9939a-9f9e-4295-aa13-6c6c7096fae1');\n",
              "          const dataTable =\n",
              "            await google.colab.kernel.invokeFunction('convertToInteractive',\n",
              "                                                     [key], {});\n",
              "          if (!dataTable) return;\n",
              "\n",
              "          const docLinkHtml = 'Like what you see? Visit the ' +\n",
              "            '<a target=\"_blank\" href=https://colab.research.google.com/notebooks/data_table.ipynb>data table notebook</a>'\n",
              "            + ' to learn more about interactive tables.';\n",
              "          element.innerHTML = '';\n",
              "          dataTable['output_type'] = 'display_data';\n",
              "          await google.colab.output.renderOutput(dataTable, element);\n",
              "          const docLink = document.createElement('div');\n",
              "          docLink.innerHTML = docLinkHtml;\n",
              "          element.appendChild(docLink);\n",
              "        }\n",
              "      </script>\n",
              "    </div>\n",
              "  </div>\n",
              "  "
            ]
          },
          "metadata": {},
          "execution_count": 42
        }
      ]
    },
    {
      "cell_type": "code",
      "source": [
        "from sklearn.decomposition import PCA"
      ],
      "metadata": {
        "id": "aPgteJxY8PcU"
      },
      "execution_count": 43,
      "outputs": []
    },
    {
      "cell_type": "code",
      "source": [
        "pca = PCA(n_components=3)\n",
        "# Apply PCA to the data\n",
        "transformed_data = pca.fit_transform(normalized_dataset)\n",
        "\n",
        "# Create a new DataFrame to hold the transformed data\n",
        "new_df = pd.DataFrame(data=transformed_data, columns=['PCA_1', 'PCA_2','PCA_3'])\n",
        "\n",
        "# Print the original and transformed data\n",
        "print('Original Data:')\n",
        "print(normalized_dataset)\n",
        "print('\\nTransformed Data:')\n",
        "print(new_df)"
      ],
      "metadata": {
        "colab": {
          "base_uri": "https://localhost:8080/"
        },
        "id": "YrJhahQD7mJs",
        "outputId": "8dfcc2ee-4ad0-4ede-9ebd-958f17b09e8b"
      },
      "execution_count": 44,
      "outputs": [
        {
          "output_type": "stream",
          "name": "stdout",
          "text": [
            "Original Data:\n",
            "          sex  bill_length_mm  bill_depth_mm  flipper_length_mm  body_mass_g  \\\n",
            "0    0.960098   -8.870812e-01       0.787743          -1.422488    -0.565789   \n",
            "1   -1.041561   -8.134940e-01       0.126556          -1.065352    -0.503168   \n",
            "2   -1.041561   -6.663195e-01       0.431719          -0.422507    -1.192003   \n",
            "3    0.960098   -1.307172e-15       0.000000           0.000000     0.000000   \n",
            "4   -1.041561   -1.328605e+00       1.092905          -0.565361    -0.941517   \n",
            "..        ...             ...            ...                ...          ...   \n",
            "339  0.960098    2.185186e+00       1.347208           0.434620    -0.252683   \n",
            "340 -1.041561   -7.762162e-02       0.482580           0.077484    -1.004139   \n",
            "341  0.960098    1.044584e+00       0.533440          -0.565361    -0.534479   \n",
            "342  0.960098    1.265345e+00       0.940324           0.648902    -0.127440   \n",
            "343 -1.041561    1.154965e+00       0.787743          -0.208225    -0.534479   \n",
            "\n",
            "       island  \n",
            "0    1.844076  \n",
            "1    1.844076  \n",
            "2    1.844076  \n",
            "3    1.844076  \n",
            "4    1.844076  \n",
            "..        ...  \n",
            "339  0.465028  \n",
            "340  0.465028  \n",
            "341  0.465028  \n",
            "342  0.465028  \n",
            "343  0.465028  \n",
            "\n",
            "[344 rows x 6 columns]\n",
            "\n",
            "Transformed Data:\n",
            "        PCA_1     PCA_2     PCA_3\n",
            "0   -2.267511  1.266175 -0.048591\n",
            "1   -2.078927 -0.528109  0.842508\n",
            "2   -2.143540 -0.409198  1.103311\n",
            "3   -0.604432  1.186353  0.705630\n",
            "4   -2.594861 -0.183224  0.554844\n",
            "..        ...       ...       ...\n",
            "339  0.448975  2.107021  1.421763\n",
            "340 -1.012636 -0.547222  0.739321\n",
            "341 -0.379978  1.294431  0.598062\n",
            "342  0.398441  1.669301  0.819717\n",
            "343 -0.536183  0.003741  1.470134\n",
            "\n",
            "[344 rows x 3 columns]\n"
          ]
        }
      ]
    },
    {
      "cell_type": "markdown",
      "source": [
        "## Data visualization"
      ],
      "metadata": {
        "id": "VYArnyOO85rl"
      }
    },
    {
      "cell_type": "markdown",
      "source": [
        "### Q11"
      ],
      "metadata": {
        "id": "8k7lLX4GAAzB"
      }
    },
    {
      "cell_type": "code",
      "source": [
        "import numpy as np\n",
        "import matplotlib.pyplot as plt\n",
        "from mpl_toolkits.mplot3d import Axes3D"
      ],
      "metadata": {
        "id": "tIyAMJ899jRi"
      },
      "execution_count": 45,
      "outputs": []
    },
    {
      "cell_type": "code",
      "source": [
        "# Create some sample data\n",
        "x = new_df['PCA_1']\n",
        "y = new_df['PCA_2']\n",
        "z = new_df['PCA_3']\n",
        "labels = np.random.randint(0, 3, 344)\n",
        "\n",
        "# Define colors for each class\n",
        "colors = {0: 'r', 1: 'g', 2: 'b'}\n",
        "color_labels = [colors[label] for label in labels]\n",
        "fig = plt.figure()\n",
        "ax = fig.add_subplot(111, projection='3d')\n",
        "ax.scatter(x, y, z, c=color_labels,alpha=0.5)\n",
        "\n",
        "# Set axis labels and title\n",
        "ax.set_xlabel('X', color='r')\n",
        "ax.set_ylabel('Y', color='g')\n",
        "ax.set_zlabel('Z', color='b')\n",
        "plt.title('X = red, Y=Green, Z=blue')\n",
        "\n",
        "\n",
        "# Show the plot\n",
        "plt.show()"
      ],
      "metadata": {
        "colab": {
          "base_uri": "https://localhost:8080/",
          "height": 275
        },
        "id": "M35cS9o08_e-",
        "outputId": "dbca2ec9-4391-4d80-b165-1c0c6d0282e7"
      },
      "execution_count": 46,
      "outputs": [
        {
          "output_type": "display_data",
          "data": {
            "text/plain": [
              "<Figure size 432x288 with 1 Axes>"
            ],
            "image/png": "[encoded data removed]"
          },
          "metadata": {
            "needs_background": "light"
          }
        }
      ]
    },
    {
      "cell_type": "markdown",
      "source": [
        "### Q12"
      ],
      "metadata": {
        "id": "78VtyDbcADA9"
      }
    },
    {
      "cell_type": "code",
      "source": [
        "import pandas as pd\n",
        "import matplotlib.pyplot as plt"
      ],
      "metadata": {
        "id": "3rKTDrwABg40"
      },
      "execution_count": 47,
      "outputs": []
    },
    {
      "cell_type": "code",
      "source": [
        "dataset"
      ],
      "metadata": {
        "colab": {
          "base_uri": "https://localhost:8080/",
          "height": 424
        },
        "id": "iIBNBrZWAE2F",
        "outputId": "32767e1e-4ddf-4167-e644-33ea5e1e8d6b"
      },
      "execution_count": 48,
      "outputs": [
        {
          "output_type": "execute_result",
          "data": {
            "text/plain": [
              "     sex bill_length_mm bill_depth_mm flipper_length_mm  body_mass_g  island\n",
              "0      1           39.1          18.7             181.0       3750.0       2\n",
              "1      0           39.5          17.4             186.0       3800.0       2\n",
              "2      0           40.3          18.0             195.0       3250.0       2\n",
              "3      1       43.92193      17.15117        200.915205  4201.754386       2\n",
              "4      0           36.7          19.3             193.0       3450.0       2\n",
              "..   ...            ...           ...               ...          ...     ...\n",
              "339    1           55.8          19.8             207.0       4000.0       1\n",
              "340    0           43.5          18.1             202.0       3400.0       1\n",
              "341    1           49.6          18.2             193.0       3775.0       1\n",
              "342    1           50.8          19.0             210.0       4100.0       1\n",
              "343    0           50.2          18.7             198.0       3775.0       1\n",
              "\n",
              "[344 rows x 6 columns]"
            ],
            "text/html": [
              "\n",
              "  <div id=\"df-87f11278-fa9b-47c7-8cdf-f3089f8612ca\">\n",
              "    <div class=\"colab-df-container\">\n",
              "      <div>\n",
              "<style scoped>\n",
              "    .dataframe tbody tr th:only-of-type {\n",
              "        vertical-align: middle;\n",
              "    }\n",
              "\n",
              "    .dataframe tbody tr th {\n",
              "        vertical-align: top;\n",
              "    }\n",
              "\n",
              "    .dataframe thead th {\n",
              "        text-align: right;\n",
              "    }\n",
              "</style>\n",
              "<table border=\"1\" class=\"dataframe\">\n",
              "  <thead>\n",
              "    <tr style=\"text-align: right;\">\n",
              "      <th></th>\n",
              "      <th>sex</th>\n",
              "      <th>bill_length_mm</th>\n",
              "      <th>bill_depth_mm</th>\n",
              "      <th>flipper_length_mm</th>\n",
              "      <th>body_mass_g</th>\n",
              "      <th>island</th>\n",
              "    </tr>\n",
              "  </thead>\n",
              "  <tbody>\n",
              "    <tr>\n",
              "      <th>0</th>\n",
              "      <td>1</td>\n",
              "      <td>39.1</td>\n",
              "      <td>18.7</td>\n",
              "      <td>181.0</td>\n",
              "      <td>3750.0</td>\n",
              "      <td>2</td>\n",
              "    </tr>\n",
              "    <tr>\n",
              "      <th>1</th>\n",
              "      <td>0</td>\n",
              "      <td>39.5</td>\n",
              "      <td>17.4</td>\n",
              "      <td>186.0</td>\n",
              "      <td>3800.0</td>\n",
              "      <td>2</td>\n",
              "    </tr>\n",
              "    <tr>\n",
              "      <th>2</th>\n",
              "      <td>0</td>\n",
              "      <td>40.3</td>\n",
              "      <td>18.0</td>\n",
              "      <td>195.0</td>\n",
              "      <td>3250.0</td>\n",
              "      <td>2</td>\n",
              "    </tr>\n",
              "    <tr>\n",
              "      <th>3</th>\n",
              "      <td>1</td>\n",
              "      <td>43.92193</td>\n",
              "      <td>17.15117</td>\n",
              "      <td>200.915205</td>\n",
              "      <td>4201.754386</td>\n",
              "      <td>2</td>\n",
              "    </tr>\n",
              "    <tr>\n",
              "      <th>4</th>\n",
              "      <td>0</td>\n",
              "      <td>36.7</td>\n",
              "      <td>19.3</td>\n",
              "      <td>193.0</td>\n",
              "      <td>3450.0</td>\n",
              "      <td>2</td>\n",
              "    </tr>\n",
              "    <tr>\n",
              "      <th>...</th>\n",
              "      <td>...</td>\n",
              "      <td>...</td>\n",
              "      <td>...</td>\n",
              "      <td>...</td>\n",
              "      <td>...</td>\n",
              "      <td>...</td>\n",
              "    </tr>\n",
              "    <tr>\n",
              "      <th>339</th>\n",
              "      <td>1</td>\n",
              "      <td>55.8</td>\n",
              "      <td>19.8</td>\n",
              "      <td>207.0</td>\n",
              "      <td>4000.0</td>\n",
              "      <td>1</td>\n",
              "    </tr>\n",
              "    <tr>\n",
              "      <th>340</th>\n",
              "      <td>0</td>\n",
              "      <td>43.5</td>\n",
              "      <td>18.1</td>\n",
              "      <td>202.0</td>\n",
              "      <td>3400.0</td>\n",
              "      <td>1</td>\n",
              "    </tr>\n",
              "    <tr>\n",
              "      <th>341</th>\n",
              "      <td>1</td>\n",
              "      <td>49.6</td>\n",
              "      <td>18.2</td>\n",
              "      <td>193.0</td>\n",
              "      <td>3775.0</td>\n",
              "      <td>1</td>\n",
              "    </tr>\n",
              "    <tr>\n",
              "      <th>342</th>\n",
              "      <td>1</td>\n",
              "      <td>50.8</td>\n",
              "      <td>19.0</td>\n",
              "      <td>210.0</td>\n",
              "      <td>4100.0</td>\n",
              "      <td>1</td>\n",
              "    </tr>\n",
              "    <tr>\n",
              "      <th>343</th>\n",
              "      <td>0</td>\n",
              "      <td>50.2</td>\n",
              "      <td>18.7</td>\n",
              "      <td>198.0</td>\n",
              "      <td>3775.0</td>\n",
              "      <td>1</td>\n",
              "    </tr>\n",
              "  </tbody>\n",
              "</table>\n",
              "<p>344 rows × 6 columns</p>\n",
              "</div>\n",
              "      <button class=\"colab-df-convert\" onclick=\"convertToInteractive('df-87f11278-fa9b-47c7-8cdf-f3089f8612ca')\"\n",
              "              title=\"Convert this dataframe to an interactive table.\"\n",
              "              style=\"display:none;\">\n",
              "        \n",
              "  <svg xmlns=\"http://www.w3.org/2000/svg\" height=\"24px\"viewBox=\"0 0 24 24\"\n",
              "       width=\"24px\">\n",
              "    <path d=\"M0 0h24v24H0V0z\" fill=\"none\"/>\n",
              "    <path d=\"M18.56 5.44l.94 2.06.94-2.06 2.06-.94-2.06-.94-.94-2.06-.94 2.06-2.06.94zm-11 1L8.5 8.5l.94-2.06 2.06-.94-2.06-.94L8.5 2.5l-.94 2.06-2.06.94zm10 10l.94 2.06.94-2.06 2.06-.94-2.06-.94-.94-2.06-.94 2.06-2.06.94z\"/><path d=\"M17.41 7.96l-1.37-1.37c-.4-.4-.92-.59-1.43-.59-.52 0-1.04.2-1.43.59L10.3 9.45l-7.72 7.72c-.78.78-.78 2.05 0 2.83L4 21.41c.39.39.9.59 1.41.59.51 0 1.02-.2 1.41-.59l7.78-7.78 2.81-2.81c.8-.78.8-2.07 0-2.86zM5.41 20L4 18.59l7.72-7.72 1.47 1.35L5.41 20z\"/>\n",
              "  </svg>\n",
              "      </button>\n",
              "      \n",
              "  <style>\n",
              "    .colab-df-container {\n",
              "      display:flex;\n",
              "      flex-wrap:wrap;\n",
              "      gap: 12px;\n",
              "    }\n",
              "\n",
              "    .colab-df-convert {\n",
              "      background-color: #E8F0FE;\n",
              "      border: none;\n",
              "      border-radius: 50%;\n",
              "      cursor: pointer;\n",
              "      display: none;\n",
              "      fill: #1967D2;\n",
              "      height: 32px;\n",
              "      padding: 0 0 0 0;\n",
              "      width: 32px;\n",
              "    }\n",
              "\n",
              "    .colab-df-convert:hover {\n",
              "      background-color: #E2EBFA;\n",
              "      box-shadow: 0px 1px 2px rgba(60, 64, 67, 0.3), 0px 1px 3px 1px rgba(60, 64, 67, 0.15);\n",
              "      fill: #174EA6;\n",
              "    }\n",
              "\n",
              "    [theme=dark] .colab-df-convert {\n",
              "      background-color: #3B4455;\n",
              "      fill: #D2E3FC;\n",
              "    }\n",
              "\n",
              "    [theme=dark] .colab-df-convert:hover {\n",
              "      background-color: #434B5C;\n",
              "      box-shadow: 0px 1px 3px 1px rgba(0, 0, 0, 0.15);\n",
              "      filter: drop-shadow(0px 1px 2px rgba(0, 0, 0, 0.3));\n",
              "      fill: #FFFFFF;\n",
              "    }\n",
              "  </style>\n",
              "\n",
              "      <script>\n",
              "        const buttonEl =\n",
              "          document.querySelector('#df-87f11278-fa9b-47c7-8cdf-f3089f8612ca button.colab-df-convert');\n",
              "        buttonEl.style.display =\n",
              "          google.colab.kernel.accessAllowed ? 'block' : 'none';\n",
              "\n",
              "        async function convertToInteractive(key) {\n",
              "          const element = document.querySelector('#df-87f11278-fa9b-47c7-8cdf-f3089f8612ca');\n",
              "          const dataTable =\n",
              "            await google.colab.kernel.invokeFunction('convertToInteractive',\n",
              "                                                     [key], {});\n",
              "          if (!dataTable) return;\n",
              "\n",
              "          const docLinkHtml = 'Like what you see? Visit the ' +\n",
              "            '<a target=\"_blank\" href=https://colab.research.google.com/notebooks/data_table.ipynb>data table notebook</a>'\n",
              "            + ' to learn more about interactive tables.';\n",
              "          element.innerHTML = '';\n",
              "          dataTable['output_type'] = 'display_data';\n",
              "          await google.colab.output.renderOutput(dataTable, element);\n",
              "          const docLink = document.createElement('div');\n",
              "          docLink.innerHTML = docLinkHtml;\n",
              "          element.appendChild(docLink);\n",
              "        }\n",
              "      </script>\n",
              "    </div>\n",
              "  </div>\n",
              "  "
            ]
          },
          "metadata": {},
          "execution_count": 48
        }
      ]
    },
    {
      "cell_type": "code",
      "source": [
        "dataset.columns"
      ],
      "metadata": {
        "colab": {
          "base_uri": "https://localhost:8080/"
        },
        "id": "ry89g4h1BiM-",
        "outputId": "4bf997ae-1154-4838-ca04-7e306b97552d"
      },
      "execution_count": 49,
      "outputs": [
        {
          "output_type": "execute_result",
          "data": {
            "text/plain": [
              "Index(['sex', 'bill_length_mm', 'bill_depth_mm', 'flipper_length_mm',\n",
              "       'body_mass_g', 'island'],\n",
              "      dtype='object')"
            ]
          },
          "metadata": {},
          "execution_count": 49
        }
      ]
    },
    {
      "cell_type": "code",
      "source": [
        "fig, axs = plt.subplots(nrows=2, ncols=3, figsize=(12, 12))\n",
        "count = 0\n",
        "\n",
        "for column in dataset.columns:\n",
        "    dataset[column] = dataset[column].astype(float)\n",
        "    if count < 6:\n",
        "        row, col = count // 3, count % 3\n",
        "        axs[row][col].boxplot(dataset[column])\n",
        "        axs[row][col].set_title(column)\n",
        "        count += 1\n",
        "\n",
        "plt.show()"
      ],
      "metadata": {
        "colab": {
          "base_uri": "https://localhost:8080/",
          "height": 716
        },
        "id": "vcMLniauBRtj",
        "outputId": "c16613dc-f719-441c-9a12-fdda11923b8e"
      },
      "execution_count": 50,
      "outputs": [
        {
          "output_type": "display_data",
          "data": {
            "text/plain": [
              "<Figure size 864x864 with 6 Axes>"
            ],
            "image/png": "[encoded data removed]"
          },
          "metadata": {
            "needs_background": "light"
          }
        }
      ]
    }
  ]
}